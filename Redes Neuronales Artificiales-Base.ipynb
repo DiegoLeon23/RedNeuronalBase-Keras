{
 "cells": [
  {
   "cell_type": "markdown",
   "metadata": {},
   "source": [
    "# Desarrollo de una Red Neuronal Basica paso a paso"
   ]
  },
  {
   "cell_type": "code",
   "execution_count": 1,
   "metadata": {},
   "outputs": [],
   "source": [
    "# Importamos las librerias necesarias\n",
    "import numpy as np\n",
    "import matplotlib.pyplot as plt\n",
    "import pandas as pd\n",
    "import os "
   ]
  },
  {
   "cell_type": "code",
   "execution_count": 2,
   "metadata": {},
   "outputs": [],
   "source": [
    "# Importar el data set\n",
    "os.chdir('D:\\DMC VIDEOS\\DEEP LEARNING INMERSION\\MOD1\\MATERIALES')"
   ]
  },
  {
   "cell_type": "code",
   "execution_count": 6,
   "metadata": {},
   "outputs": [],
   "source": [
    "miArchivo='Churn_Modelling.csv'\n",
    "df=pd.read_csv(miArchivo)"
   ]
  },
  {
   "cell_type": "markdown",
   "metadata": {},
   "source": [
    "### ------------------------------------------------------------------------------------------------------------\n",
    "## **PARTE I - ENTENDIMIENTO Y TRATAMIENTO DE DATOS**\n",
    "### ------------------------------------------------------------------------------------------------------------"
   ]
  },
  {
   "cell_type": "code",
   "execution_count": 5,
   "metadata": {},
   "outputs": [
    {
     "data": {
      "text/plain": [
       "(10000, 14)"
      ]
     },
     "execution_count": 5,
     "metadata": {},
     "output_type": "execute_result"
    }
   ],
   "source": [
    "# Revisamos la dimension del dataset!\n",
    "df.shape"
   ]
  },
  {
   "cell_type": "code",
   "execution_count": 7,
   "metadata": {},
   "outputs": [
    {
     "data": {
      "text/html": [
       "<div>\n",
       "<style scoped>\n",
       "    .dataframe tbody tr th:only-of-type {\n",
       "        vertical-align: middle;\n",
       "    }\n",
       "\n",
       "    .dataframe tbody tr th {\n",
       "        vertical-align: top;\n",
       "    }\n",
       "\n",
       "    .dataframe thead th {\n",
       "        text-align: right;\n",
       "    }\n",
       "</style>\n",
       "<table border=\"1\" class=\"dataframe\">\n",
       "  <thead>\n",
       "    <tr style=\"text-align: right;\">\n",
       "      <th></th>\n",
       "      <th>RowNumber</th>\n",
       "      <th>CustomerId</th>\n",
       "      <th>Surname</th>\n",
       "      <th>CreditScore</th>\n",
       "      <th>Geography</th>\n",
       "      <th>Gender</th>\n",
       "      <th>Age</th>\n",
       "      <th>Tenure</th>\n",
       "      <th>Balance</th>\n",
       "      <th>NumOfProducts</th>\n",
       "      <th>HasCrCard</th>\n",
       "      <th>IsActiveMember</th>\n",
       "      <th>EstimatedSalary</th>\n",
       "      <th>Exited</th>\n",
       "    </tr>\n",
       "  </thead>\n",
       "  <tbody>\n",
       "    <tr>\n",
       "      <th>0</th>\n",
       "      <td>1</td>\n",
       "      <td>15634602</td>\n",
       "      <td>Hargrave</td>\n",
       "      <td>619</td>\n",
       "      <td>France</td>\n",
       "      <td>Female</td>\n",
       "      <td>42</td>\n",
       "      <td>2</td>\n",
       "      <td>0.00</td>\n",
       "      <td>1</td>\n",
       "      <td>1</td>\n",
       "      <td>1</td>\n",
       "      <td>101348.88</td>\n",
       "      <td>1</td>\n",
       "    </tr>\n",
       "    <tr>\n",
       "      <th>1</th>\n",
       "      <td>2</td>\n",
       "      <td>15647311</td>\n",
       "      <td>Hill</td>\n",
       "      <td>608</td>\n",
       "      <td>Spain</td>\n",
       "      <td>Female</td>\n",
       "      <td>41</td>\n",
       "      <td>1</td>\n",
       "      <td>83807.86</td>\n",
       "      <td>1</td>\n",
       "      <td>0</td>\n",
       "      <td>1</td>\n",
       "      <td>112542.58</td>\n",
       "      <td>0</td>\n",
       "    </tr>\n",
       "    <tr>\n",
       "      <th>2</th>\n",
       "      <td>3</td>\n",
       "      <td>15619304</td>\n",
       "      <td>Onio</td>\n",
       "      <td>502</td>\n",
       "      <td>France</td>\n",
       "      <td>Female</td>\n",
       "      <td>42</td>\n",
       "      <td>8</td>\n",
       "      <td>159660.80</td>\n",
       "      <td>3</td>\n",
       "      <td>1</td>\n",
       "      <td>0</td>\n",
       "      <td>113931.57</td>\n",
       "      <td>1</td>\n",
       "    </tr>\n",
       "    <tr>\n",
       "      <th>3</th>\n",
       "      <td>4</td>\n",
       "      <td>15701354</td>\n",
       "      <td>Boni</td>\n",
       "      <td>699</td>\n",
       "      <td>France</td>\n",
       "      <td>Female</td>\n",
       "      <td>39</td>\n",
       "      <td>1</td>\n",
       "      <td>0.00</td>\n",
       "      <td>2</td>\n",
       "      <td>0</td>\n",
       "      <td>0</td>\n",
       "      <td>93826.63</td>\n",
       "      <td>0</td>\n",
       "    </tr>\n",
       "    <tr>\n",
       "      <th>4</th>\n",
       "      <td>5</td>\n",
       "      <td>15737888</td>\n",
       "      <td>Mitchell</td>\n",
       "      <td>850</td>\n",
       "      <td>Spain</td>\n",
       "      <td>Female</td>\n",
       "      <td>43</td>\n",
       "      <td>2</td>\n",
       "      <td>125510.82</td>\n",
       "      <td>1</td>\n",
       "      <td>1</td>\n",
       "      <td>1</td>\n",
       "      <td>79084.10</td>\n",
       "      <td>0</td>\n",
       "    </tr>\n",
       "    <tr>\n",
       "      <th>5</th>\n",
       "      <td>6</td>\n",
       "      <td>15574012</td>\n",
       "      <td>Chu</td>\n",
       "      <td>645</td>\n",
       "      <td>Spain</td>\n",
       "      <td>Male</td>\n",
       "      <td>44</td>\n",
       "      <td>8</td>\n",
       "      <td>113755.78</td>\n",
       "      <td>2</td>\n",
       "      <td>1</td>\n",
       "      <td>0</td>\n",
       "      <td>149756.71</td>\n",
       "      <td>1</td>\n",
       "    </tr>\n",
       "    <tr>\n",
       "      <th>6</th>\n",
       "      <td>7</td>\n",
       "      <td>15592531</td>\n",
       "      <td>Bartlett</td>\n",
       "      <td>822</td>\n",
       "      <td>France</td>\n",
       "      <td>Male</td>\n",
       "      <td>50</td>\n",
       "      <td>7</td>\n",
       "      <td>0.00</td>\n",
       "      <td>2</td>\n",
       "      <td>1</td>\n",
       "      <td>1</td>\n",
       "      <td>10062.80</td>\n",
       "      <td>0</td>\n",
       "    </tr>\n",
       "    <tr>\n",
       "      <th>7</th>\n",
       "      <td>8</td>\n",
       "      <td>15656148</td>\n",
       "      <td>Obinna</td>\n",
       "      <td>376</td>\n",
       "      <td>Germany</td>\n",
       "      <td>Female</td>\n",
       "      <td>29</td>\n",
       "      <td>4</td>\n",
       "      <td>115046.74</td>\n",
       "      <td>4</td>\n",
       "      <td>1</td>\n",
       "      <td>0</td>\n",
       "      <td>119346.88</td>\n",
       "      <td>1</td>\n",
       "    </tr>\n",
       "    <tr>\n",
       "      <th>8</th>\n",
       "      <td>9</td>\n",
       "      <td>15792365</td>\n",
       "      <td>He</td>\n",
       "      <td>501</td>\n",
       "      <td>France</td>\n",
       "      <td>Male</td>\n",
       "      <td>44</td>\n",
       "      <td>4</td>\n",
       "      <td>142051.07</td>\n",
       "      <td>2</td>\n",
       "      <td>0</td>\n",
       "      <td>1</td>\n",
       "      <td>74940.50</td>\n",
       "      <td>0</td>\n",
       "    </tr>\n",
       "    <tr>\n",
       "      <th>9</th>\n",
       "      <td>10</td>\n",
       "      <td>15592389</td>\n",
       "      <td>H?</td>\n",
       "      <td>684</td>\n",
       "      <td>France</td>\n",
       "      <td>Male</td>\n",
       "      <td>27</td>\n",
       "      <td>2</td>\n",
       "      <td>134603.88</td>\n",
       "      <td>1</td>\n",
       "      <td>1</td>\n",
       "      <td>1</td>\n",
       "      <td>71725.73</td>\n",
       "      <td>0</td>\n",
       "    </tr>\n",
       "  </tbody>\n",
       "</table>\n",
       "</div>"
      ],
      "text/plain": [
       "   RowNumber  CustomerId   Surname  CreditScore Geography  Gender  Age  \\\n",
       "0          1    15634602  Hargrave          619    France  Female   42   \n",
       "1          2    15647311      Hill          608     Spain  Female   41   \n",
       "2          3    15619304      Onio          502    France  Female   42   \n",
       "3          4    15701354      Boni          699    France  Female   39   \n",
       "4          5    15737888  Mitchell          850     Spain  Female   43   \n",
       "5          6    15574012       Chu          645     Spain    Male   44   \n",
       "6          7    15592531  Bartlett          822    France    Male   50   \n",
       "7          8    15656148    Obinna          376   Germany  Female   29   \n",
       "8          9    15792365        He          501    France    Male   44   \n",
       "9         10    15592389        H?          684    France    Male   27   \n",
       "\n",
       "   Tenure    Balance  NumOfProducts  HasCrCard  IsActiveMember  \\\n",
       "0       2       0.00              1          1               1   \n",
       "1       1   83807.86              1          0               1   \n",
       "2       8  159660.80              3          1               0   \n",
       "3       1       0.00              2          0               0   \n",
       "4       2  125510.82              1          1               1   \n",
       "5       8  113755.78              2          1               0   \n",
       "6       7       0.00              2          1               1   \n",
       "7       4  115046.74              4          1               0   \n",
       "8       4  142051.07              2          0               1   \n",
       "9       2  134603.88              1          1               1   \n",
       "\n",
       "   EstimatedSalary  Exited  \n",
       "0        101348.88       1  \n",
       "1        112542.58       0  \n",
       "2        113931.57       1  \n",
       "3         93826.63       0  \n",
       "4         79084.10       0  \n",
       "5        149756.71       1  \n",
       "6         10062.80       0  \n",
       "7        119346.88       1  \n",
       "8         74940.50       0  \n",
       "9         71725.73       0  "
      ]
     },
     "execution_count": 7,
     "metadata": {},
     "output_type": "execute_result"
    }
   ],
   "source": [
    "# Revisamos los primeros registros del set de datos\n",
    "df.head(10)"
   ]
  },
  {
   "cell_type": "code",
   "execution_count": 24,
   "metadata": {},
   "outputs": [],
   "source": [
    "#Funcion desarrollada para visualizar la data en base a nuestra target\n",
    "def printBalanceo(data, field_grouping, data_name):\n",
    "    print(\"\\nCantidad de elementos por Clase en \", data_name, \":\")\n",
    "    target_count = data[field_grouping].value_counts()\n",
    "    target_count.plot(kind='bar', title='Count (' + field_grouping + ')');\n",
    "\n",
    "    print('Clase 0:', target_count[0], \"({:.2%})\".format(round(target_count[0] / (target_count[0]+target_count[1]), 2)))\n",
    "    print('Clase 1:', target_count[1], \"({:.2%})\".format(round(target_count[1] / (target_count[0]+target_count[1]), 2)))\n",
    "    print('Total  :', data.shape[0])"
   ]
  },
  {
   "cell_type": "code",
   "execution_count": 25,
   "metadata": {
    "scrolled": false
   },
   "outputs": [
    {
     "name": "stdout",
     "output_type": "stream",
     "text": [
      "\n",
      "Cantidad de elementos por Clase en  Dataset :\n",
      "Clase 0: 7963 (80.00%)\n",
      "Clase 1: 2037 (20.00%)\n",
      "Total  : 10000\n"
     ]
    },
    {
     "data": {
      "image/png": "[encoded data removed]",
      "text/plain": [
       "<Figure size 432x288 with 1 Axes>"
      ]
     },
     "metadata": {
      "needs_background": "light"
     },
     "output_type": "display_data"
    }
   ],
   "source": [
    "# Revisamos el target del set de datos!\n",
    "printBalanceo(df,'Exited','Dataset')"
   ]
  },
  {
   "cell_type": "code",
   "execution_count": 27,
   "metadata": {},
   "outputs": [],
   "source": [
    "#Separamos las columnas numericas y las categoricas (Es recomendable hacer esta separación por buenas prácticas)\n",
    "ColumnsCategóricas = ['Geography','Gender','HasCrCard','IsActiveMember','Exited']\n",
    "ColumnsNumericas = ['CreditScore','Age', 'Tenure', 'Balance', 'NumOfProducts','EstimatedSalary']"
   ]
  },
  {
   "cell_type": "code",
   "execution_count": 28,
   "metadata": {},
   "outputs": [
    {
     "data": {
      "text/plain": [
       "RowNumber          0\n",
       "CustomerId         0\n",
       "Surname            0\n",
       "CreditScore        0\n",
       "Geography          0\n",
       "Gender             0\n",
       "Age                0\n",
       "Tenure             0\n",
       "Balance            0\n",
       "NumOfProducts      0\n",
       "HasCrCard          0\n",
       "IsActiveMember     0\n",
       "EstimatedSalary    0\n",
       "Exited             0\n",
       "dtype: int64"
      ]
     },
     "execution_count": 28,
     "metadata": {},
     "output_type": "execute_result"
    }
   ],
   "source": [
    "#Antes de hacer cualquier trabajo con los datos, vemos los valores nulos\n",
    "df.isnull().sum()"
   ]
  },
  {
   "cell_type": "code",
   "execution_count": 35,
   "metadata": {},
   "outputs": [],
   "source": [
    "#Creamos 2 dataset de variables categoricas!\n",
    "df_categoricas_01=df[ColumnsCategóricas]"
   ]
  },
  {
   "cell_type": "code",
   "execution_count": 36,
   "metadata": {},
   "outputs": [
    {
     "data": {
      "text/html": [
       "<div>\n",
       "<style scoped>\n",
       "    .dataframe tbody tr th:only-of-type {\n",
       "        vertical-align: middle;\n",
       "    }\n",
       "\n",
       "    .dataframe tbody tr th {\n",
       "        vertical-align: top;\n",
       "    }\n",
       "\n",
       "    .dataframe thead th {\n",
       "        text-align: right;\n",
       "    }\n",
       "</style>\n",
       "<table border=\"1\" class=\"dataframe\">\n",
       "  <thead>\n",
       "    <tr style=\"text-align: right;\">\n",
       "      <th></th>\n",
       "      <th>Geography</th>\n",
       "      <th>Gender</th>\n",
       "      <th>HasCrCard</th>\n",
       "      <th>IsActiveMember</th>\n",
       "      <th>Exited</th>\n",
       "    </tr>\n",
       "  </thead>\n",
       "  <tbody>\n",
       "    <tr>\n",
       "      <th>0</th>\n",
       "      <td>France</td>\n",
       "      <td>Female</td>\n",
       "      <td>1</td>\n",
       "      <td>1</td>\n",
       "      <td>1</td>\n",
       "    </tr>\n",
       "    <tr>\n",
       "      <th>1</th>\n",
       "      <td>Spain</td>\n",
       "      <td>Female</td>\n",
       "      <td>0</td>\n",
       "      <td>1</td>\n",
       "      <td>0</td>\n",
       "    </tr>\n",
       "    <tr>\n",
       "      <th>2</th>\n",
       "      <td>France</td>\n",
       "      <td>Female</td>\n",
       "      <td>1</td>\n",
       "      <td>0</td>\n",
       "      <td>1</td>\n",
       "    </tr>\n",
       "    <tr>\n",
       "      <th>3</th>\n",
       "      <td>France</td>\n",
       "      <td>Female</td>\n",
       "      <td>0</td>\n",
       "      <td>0</td>\n",
       "      <td>0</td>\n",
       "    </tr>\n",
       "    <tr>\n",
       "      <th>4</th>\n",
       "      <td>Spain</td>\n",
       "      <td>Female</td>\n",
       "      <td>1</td>\n",
       "      <td>1</td>\n",
       "      <td>0</td>\n",
       "    </tr>\n",
       "  </tbody>\n",
       "</table>\n",
       "</div>"
      ],
      "text/plain": [
       "  Geography  Gender  HasCrCard  IsActiveMember  Exited\n",
       "0    France  Female          1               1       1\n",
       "1     Spain  Female          0               1       0\n",
       "2    France  Female          1               0       1\n",
       "3    France  Female          0               0       0\n",
       "4     Spain  Female          1               1       0"
      ]
     },
     "execution_count": 36,
     "metadata": {},
     "output_type": "execute_result"
    }
   ],
   "source": [
    "df_categoricas_01.head()"
   ]
  },
  {
   "cell_type": "code",
   "execution_count": 37,
   "metadata": {
    "scrolled": true
   },
   "outputs": [
    {
     "name": "stdout",
     "output_type": "stream",
     "text": [
      "Geography\n",
      "Gender\n",
      "HasCrCard\n",
      "IsActiveMember\n",
      "Exited\n"
     ]
    },
    {
     "name": "stderr",
     "output_type": "stream",
     "text": [
      "<ipython-input-37-1d44c07cf1d0>:8: SettingWithCopyWarning: \n",
      "A value is trying to be set on a copy of a slice from a DataFrame.\n",
      "Try using .loc[row_indexer,col_indexer] = value instead\n",
      "\n",
      "See the caveats in the documentation: https://pandas.pydata.org/pandas-docs/stable/user_guide/indexing.html#returning-a-view-versus-a-copy\n",
      "  df_categoricas_01[str(c)]=le.fit_transform(df_categoricas_01[str(c)])\n"
     ]
    }
   ],
   "source": [
    "#Tratamiento de Variables Categoricas\n",
    "# LabelEncoder\n",
    "from sklearn.preprocessing import LabelEncoder\n",
    "\n",
    "for c in df_categoricas_01:\n",
    "    print(str(c))\n",
    "    le=LabelEncoder()\n",
    "    df_categoricas_01[str(c)]=le.fit_transform(df_categoricas_01[str(c)])"
   ]
  },
  {
   "cell_type": "code",
   "execution_count": 38,
   "metadata": {
    "scrolled": true
   },
   "outputs": [
    {
     "data": {
      "text/html": [
       "<div>\n",
       "<style scoped>\n",
       "    .dataframe tbody tr th:only-of-type {\n",
       "        vertical-align: middle;\n",
       "    }\n",
       "\n",
       "    .dataframe tbody tr th {\n",
       "        vertical-align: top;\n",
       "    }\n",
       "\n",
       "    .dataframe thead th {\n",
       "        text-align: right;\n",
       "    }\n",
       "</style>\n",
       "<table border=\"1\" class=\"dataframe\">\n",
       "  <thead>\n",
       "    <tr style=\"text-align: right;\">\n",
       "      <th></th>\n",
       "      <th>Geography</th>\n",
       "      <th>Gender</th>\n",
       "      <th>HasCrCard</th>\n",
       "      <th>IsActiveMember</th>\n",
       "      <th>Exited</th>\n",
       "    </tr>\n",
       "  </thead>\n",
       "  <tbody>\n",
       "    <tr>\n",
       "      <th>0</th>\n",
       "      <td>0</td>\n",
       "      <td>0</td>\n",
       "      <td>1</td>\n",
       "      <td>1</td>\n",
       "      <td>1</td>\n",
       "    </tr>\n",
       "    <tr>\n",
       "      <th>1</th>\n",
       "      <td>2</td>\n",
       "      <td>0</td>\n",
       "      <td>0</td>\n",
       "      <td>1</td>\n",
       "      <td>0</td>\n",
       "    </tr>\n",
       "    <tr>\n",
       "      <th>2</th>\n",
       "      <td>0</td>\n",
       "      <td>0</td>\n",
       "      <td>1</td>\n",
       "      <td>0</td>\n",
       "      <td>1</td>\n",
       "    </tr>\n",
       "    <tr>\n",
       "      <th>3</th>\n",
       "      <td>0</td>\n",
       "      <td>0</td>\n",
       "      <td>0</td>\n",
       "      <td>0</td>\n",
       "      <td>0</td>\n",
       "    </tr>\n",
       "    <tr>\n",
       "      <th>4</th>\n",
       "      <td>2</td>\n",
       "      <td>0</td>\n",
       "      <td>1</td>\n",
       "      <td>1</td>\n",
       "      <td>0</td>\n",
       "    </tr>\n",
       "  </tbody>\n",
       "</table>\n",
       "</div>"
      ],
      "text/plain": [
       "   Geography  Gender  HasCrCard  IsActiveMember  Exited\n",
       "0          0       0          1               1       1\n",
       "1          2       0          0               1       0\n",
       "2          0       0          1               0       1\n",
       "3          0       0          0               0       0\n",
       "4          2       0          1               1       0"
      ]
     },
     "execution_count": 38,
     "metadata": {},
     "output_type": "execute_result"
    }
   ],
   "source": [
    "df_categoricas_01.head()"
   ]
  },
  {
   "cell_type": "code",
   "execution_count": 39,
   "metadata": {},
   "outputs": [],
   "source": [
    "#Concatenamos las información!\n",
    "df2 = pd.concat([df[ColumnsNumericas],df_categoricas_01],axis=1)"
   ]
  },
  {
   "cell_type": "code",
   "execution_count": 40,
   "metadata": {},
   "outputs": [
    {
     "data": {
      "text/html": [
       "<div>\n",
       "<style scoped>\n",
       "    .dataframe tbody tr th:only-of-type {\n",
       "        vertical-align: middle;\n",
       "    }\n",
       "\n",
       "    .dataframe tbody tr th {\n",
       "        vertical-align: top;\n",
       "    }\n",
       "\n",
       "    .dataframe thead th {\n",
       "        text-align: right;\n",
       "    }\n",
       "</style>\n",
       "<table border=\"1\" class=\"dataframe\">\n",
       "  <thead>\n",
       "    <tr style=\"text-align: right;\">\n",
       "      <th></th>\n",
       "      <th>CreditScore</th>\n",
       "      <th>Age</th>\n",
       "      <th>Tenure</th>\n",
       "      <th>Balance</th>\n",
       "      <th>NumOfProducts</th>\n",
       "      <th>EstimatedSalary</th>\n",
       "      <th>Geography</th>\n",
       "      <th>Gender</th>\n",
       "      <th>HasCrCard</th>\n",
       "      <th>IsActiveMember</th>\n",
       "      <th>Exited</th>\n",
       "    </tr>\n",
       "  </thead>\n",
       "  <tbody>\n",
       "    <tr>\n",
       "      <th>0</th>\n",
       "      <td>619</td>\n",
       "      <td>42</td>\n",
       "      <td>2</td>\n",
       "      <td>0.00</td>\n",
       "      <td>1</td>\n",
       "      <td>101348.88</td>\n",
       "      <td>0</td>\n",
       "      <td>0</td>\n",
       "      <td>1</td>\n",
       "      <td>1</td>\n",
       "      <td>1</td>\n",
       "    </tr>\n",
       "    <tr>\n",
       "      <th>1</th>\n",
       "      <td>608</td>\n",
       "      <td>41</td>\n",
       "      <td>1</td>\n",
       "      <td>83807.86</td>\n",
       "      <td>1</td>\n",
       "      <td>112542.58</td>\n",
       "      <td>2</td>\n",
       "      <td>0</td>\n",
       "      <td>0</td>\n",
       "      <td>1</td>\n",
       "      <td>0</td>\n",
       "    </tr>\n",
       "    <tr>\n",
       "      <th>2</th>\n",
       "      <td>502</td>\n",
       "      <td>42</td>\n",
       "      <td>8</td>\n",
       "      <td>159660.80</td>\n",
       "      <td>3</td>\n",
       "      <td>113931.57</td>\n",
       "      <td>0</td>\n",
       "      <td>0</td>\n",
       "      <td>1</td>\n",
       "      <td>0</td>\n",
       "      <td>1</td>\n",
       "    </tr>\n",
       "    <tr>\n",
       "      <th>3</th>\n",
       "      <td>699</td>\n",
       "      <td>39</td>\n",
       "      <td>1</td>\n",
       "      <td>0.00</td>\n",
       "      <td>2</td>\n",
       "      <td>93826.63</td>\n",
       "      <td>0</td>\n",
       "      <td>0</td>\n",
       "      <td>0</td>\n",
       "      <td>0</td>\n",
       "      <td>0</td>\n",
       "    </tr>\n",
       "    <tr>\n",
       "      <th>4</th>\n",
       "      <td>850</td>\n",
       "      <td>43</td>\n",
       "      <td>2</td>\n",
       "      <td>125510.82</td>\n",
       "      <td>1</td>\n",
       "      <td>79084.10</td>\n",
       "      <td>2</td>\n",
       "      <td>0</td>\n",
       "      <td>1</td>\n",
       "      <td>1</td>\n",
       "      <td>0</td>\n",
       "    </tr>\n",
       "  </tbody>\n",
       "</table>\n",
       "</div>"
      ],
      "text/plain": [
       "   CreditScore  Age  Tenure    Balance  NumOfProducts  EstimatedSalary  \\\n",
       "0          619   42       2       0.00              1        101348.88   \n",
       "1          608   41       1   83807.86              1        112542.58   \n",
       "2          502   42       8  159660.80              3        113931.57   \n",
       "3          699   39       1       0.00              2         93826.63   \n",
       "4          850   43       2  125510.82              1         79084.10   \n",
       "\n",
       "   Geography  Gender  HasCrCard  IsActiveMember  Exited  \n",
       "0          0       0          1               1       1  \n",
       "1          2       0          0               1       0  \n",
       "2          0       0          1               0       1  \n",
       "3          0       0          0               0       0  \n",
       "4          2       0          1               1       0  "
      ]
     },
     "execution_count": 40,
     "metadata": {},
     "output_type": "execute_result"
    }
   ],
   "source": [
    "#Ya tenemos nuestra data de manera numerica\n",
    "df2.head()"
   ]
  },
  {
   "cell_type": "code",
   "execution_count": 41,
   "metadata": {},
   "outputs": [],
   "source": [
    "#Separamos las covariables y la target !\n",
    "X=df2.iloc[:,:10]\n",
    "y=df2.iloc[:,10]"
   ]
  },
  {
   "cell_type": "markdown",
   "metadata": {},
   "source": [
    "### ------------------------------------------------------------------------------------------------------------------------\n",
    "## **PARTE II - PARTICION MUESTRAL  Y ESCALAMIENTO DE DATOS**\n",
    "### ------------------------------------------------------------------------------------------------------------------------"
   ]
  },
  {
   "cell_type": "code",
   "execution_count": 44,
   "metadata": {},
   "outputs": [],
   "source": [
    "#Dividir el data set en conjunto de entrenamiento y conjunto de testing\n",
    "from sklearn.model_selection import train_test_split\n",
    "X_train,X_test,y_train,y_test = train_test_split(X, #covariables\n",
    "                                                 y, #target\n",
    "                                                 test_size=0.33, #33% de la data total para data de testing\n",
    "                                                 random_state=111,\n",
    "                                                 stratify=y)"
   ]
  },
  {
   "cell_type": "code",
   "execution_count": 45,
   "metadata": {},
   "outputs": [],
   "source": [
    "#Importante !!!\n",
    "#Escalado de variables\n",
    "from sklearn.preprocessing import StandardScaler #Importamos el modulo\n",
    "sc_X=StandardScaler()                            #Definimos la funcion\n",
    "X_train = sc_X.fit_transform(X_train)            # entrenamos y aplicamos\n",
    "X_test = sc_X.fit_transform(X_test)              # entrenamos y aplicamos"
   ]
  },
  {
   "cell_type": "markdown",
   "metadata": {},
   "source": [
    "### ------------------------------------------------------------------------------------------------------------------------\n",
    "## **PARTE III - CONSTRUCCION DE LA RED NEURONAL ARTIFICIAL**\n",
    "### ------------------------------------------------------------------------------------------------------------------------"
   ]
  },
  {
   "cell_type": "code",
   "execution_count": 49,
   "metadata": {},
   "outputs": [],
   "source": [
    "#pip install keras"
   ]
  },
  {
   "cell_type": "code",
   "execution_count": 55,
   "metadata": {},
   "outputs": [],
   "source": [
    "# Importar Keras y librerías adicionales\n",
    "import keras\n",
    "from keras.models import Sequential # Arquitectura de la red\n",
    "from keras.layers import Dense      # Capas de las redes neuronales\n",
    "from keras.layers import Dropout    # Regularizacion / Evita sobreajuste"
   ]
  },
  {
   "cell_type": "code",
   "execution_count": 50,
   "metadata": {},
   "outputs": [],
   "source": [
    "# Inicializar la RNA.\n",
    "# Si la definimos como secuencia de capas es mucho mas facil despues trabajar con ellas.\n",
    "classifier = Sequential() # Podria codificar aca las capas y demas pero lo hacemos una a una."
   ]
  },
  {
   "cell_type": "code",
   "execution_count": 51,
   "metadata": {},
   "outputs": [],
   "source": [
    "# Añadir las capas de entrada y primera capa oculta\n",
    "# Dense es un tipo de capa, la necesitamos codificar. \n",
    "# units : Numero de neuronas\n",
    "# kernel_initializer : Inicializacion de pesos.\n",
    "# activation : Funcion de activacion que te ayuda a la ingenieria de variables!(evita la linealidad)\n",
    "# input_dim : Es el numero de variables o X o features.\n",
    "classifier.add(Dense(units = 6, kernel_initializer = \"uniform\",  activation = \"relu\", input_dim = 10)) # Primera capa oculta\n",
    "#classifier.add(Dropout(p = 0.05))"
   ]
  },
  {
   "cell_type": "code",
   "execution_count": 52,
   "metadata": {},
   "outputs": [],
   "source": [
    "# Añadir la segunda capa oculta\n",
    "classifier.add(Dense(units = 6, kernel_initializer = \"uniform\",  activation = \"relu\"))\n",
    "#classifier.add(Dropout(p = 0.01)) # Regularización"
   ]
  },
  {
   "cell_type": "code",
   "execution_count": 53,
   "metadata": {},
   "outputs": [],
   "source": [
    "# Añadir la capa de salida\n",
    "# Solo necesitamos una unidad pues tenemos un resultado binario.\n",
    "classifier.add(Dense(units = 1, kernel_initializer = \"uniform\",  activation = \"sigmoid\"))\n",
    "# Si tengo mas de 2 categorias , puedo mantener la funcion de activacion sigmoide? +1\n",
    "#Si es multinomial, la que me convendria sería softmax"
   ]
  },
  {
   "cell_type": "code",
   "execution_count": 61,
   "metadata": {},
   "outputs": [],
   "source": [
    "# Compilar la RNA\n",
    "# Podemos probar con distintos optimizadores\n",
    "#loss=funcion de costo \n",
    "    #-----------binary_crossentropy(entropia cruzada)-para clasificacion\n",
    "    #-----------Error cuadratico medio(MSE) -para regresion(se cambiara la funcion de activation de la capa salida )\n",
    "#optimizer\n",
    "classifier.compile(optimizer = \"adam\", loss = \"binary_crossentropy\", metrics = [\"accuracy\"])"
   ]
  },
  {
   "cell_type": "code",
   "execution_count": 62,
   "metadata": {},
   "outputs": [
    {
     "name": "stdout",
     "output_type": "stream",
     "text": [
      "Model: \"sequential\"\n",
      "_________________________________________________________________\n",
      "Layer (type)                 Output Shape              Param #   \n",
      "=================================================================\n",
      "dense (Dense)                (None, 6)                 66        \n",
      "_________________________________________________________________\n",
      "dense_1 (Dense)              (None, 6)                 42        \n",
      "_________________________________________________________________\n",
      "dense_2 (Dense)              (None, 1)                 7         \n",
      "=================================================================\n",
      "Total params: 115\n",
      "Trainable params: 115\n",
      "Non-trainable params: 0\n",
      "_________________________________________________________________\n"
     ]
    }
   ],
   "source": [
    "classifier.summary() #Visualizamos nuestra arquitectura de red"
   ]
  },
  {
   "cell_type": "markdown",
   "metadata": {},
   "source": [
    "### ------------------------------------------------------------------------------------------------------------------------\n",
    "## **PARTE IV - ENTRENAMIENTO DE LA RED NEURONAL ARTIFICIAL**\n",
    "### -------------------------------------------------------------------------------------------------------------------------"
   ]
  },
  {
   "cell_type": "code",
   "execution_count": 63,
   "metadata": {},
   "outputs": [
    {
     "name": "stdout",
     "output_type": "stream",
     "text": [
      "Epoch 1/100\n",
      "141/141 [==============================] - 3s 6ms/step - loss: 0.6727 - accuracy: 0.8076 - val_loss: 0.5439 - val_accuracy: 0.7839\n",
      "Epoch 2/100\n",
      "141/141 [==============================] - 0s 2ms/step - loss: 0.4880 - accuracy: 0.8019 - val_loss: 0.4606 - val_accuracy: 0.7839\n",
      "Epoch 3/100\n",
      "141/141 [==============================] - 0s 2ms/step - loss: 0.4271 - accuracy: 0.8089 - val_loss: 0.4577 - val_accuracy: 0.7839\n",
      "Epoch 4/100\n",
      "141/141 [==============================] - 0s 2ms/step - loss: 0.4393 - accuracy: 0.7979 - val_loss: 0.4550 - val_accuracy: 0.7839\n",
      "Epoch 5/100\n",
      "141/141 [==============================] - 0s 2ms/step - loss: 0.4317 - accuracy: 0.7977 - val_loss: 0.4540 - val_accuracy: 0.7839\n",
      "Epoch 6/100\n",
      "141/141 [==============================] - 0s 1ms/step - loss: 0.4275 - accuracy: 0.8002 - val_loss: 0.4528 - val_accuracy: 0.7839\n",
      "Epoch 7/100\n",
      "141/141 [==============================] - 0s 2ms/step - loss: 0.4202 - accuracy: 0.8063 - val_loss: 0.4521 - val_accuracy: 0.7839\n",
      "Epoch 8/100\n",
      "141/141 [==============================] - 0s 2ms/step - loss: 0.4287 - accuracy: 0.8010 - val_loss: 0.4529 - val_accuracy: 0.7839\n",
      "Epoch 9/100\n",
      "141/141 [==============================] - 0s 2ms/step - loss: 0.4297 - accuracy: 0.7920 - val_loss: 0.4524 - val_accuracy: 0.7839\n",
      "Epoch 10/100\n",
      "141/141 [==============================] - 0s 2ms/step - loss: 0.4116 - accuracy: 0.8006 - val_loss: 0.4509 - val_accuracy: 0.7839\n",
      "Epoch 11/100\n",
      "141/141 [==============================] - 0s 2ms/step - loss: 0.4133 - accuracy: 0.8018 - val_loss: 0.4505 - val_accuracy: 0.7839\n",
      "Epoch 12/100\n",
      "141/141 [==============================] - 0s 2ms/step - loss: 0.3975 - accuracy: 0.8236 - val_loss: 0.4500 - val_accuracy: 0.7839\n",
      "Epoch 13/100\n",
      "141/141 [==============================] - 0s 2ms/step - loss: 0.4118 - accuracy: 0.8015 - val_loss: 0.4510 - val_accuracy: 0.7839\n",
      "Epoch 14/100\n",
      "141/141 [==============================] - 0s 2ms/step - loss: 0.4185 - accuracy: 0.8014 - val_loss: 0.4523 - val_accuracy: 0.7839\n",
      "Epoch 15/100\n",
      "141/141 [==============================] - 0s 2ms/step - loss: 0.4224 - accuracy: 0.8037 - val_loss: 0.4503 - val_accuracy: 0.7839\n",
      "Epoch 16/100\n",
      "141/141 [==============================] - 0s 2ms/step - loss: 0.4240 - accuracy: 0.7936 - val_loss: 0.4505 - val_accuracy: 0.7839\n",
      "Epoch 17/100\n",
      "141/141 [==============================] - 0s 2ms/step - loss: 0.4125 - accuracy: 0.8071 - val_loss: 0.4508 - val_accuracy: 0.7839\n",
      "Epoch 18/100\n",
      "141/141 [==============================] - 0s 2ms/step - loss: 0.4094 - accuracy: 0.8028 - val_loss: 0.4487 - val_accuracy: 0.7889\n",
      "Epoch 19/100\n",
      "141/141 [==============================] - 0s 2ms/step - loss: 0.4095 - accuracy: 0.8172 - val_loss: 0.4483 - val_accuracy: 0.7889\n",
      "Epoch 20/100\n",
      "141/141 [==============================] - 0s 2ms/step - loss: 0.4032 - accuracy: 0.8255 - val_loss: 0.4478 - val_accuracy: 0.7929\n",
      "Epoch 21/100\n",
      "141/141 [==============================] - 0s 2ms/step - loss: 0.4068 - accuracy: 0.8265 - val_loss: 0.4473 - val_accuracy: 0.7939\n",
      "Epoch 22/100\n",
      "141/141 [==============================] - 0s 2ms/step - loss: 0.4151 - accuracy: 0.8135 - val_loss: 0.4501 - val_accuracy: 0.7952\n",
      "Epoch 23/100\n",
      "141/141 [==============================] - 0s 2ms/step - loss: 0.4012 - accuracy: 0.8269 - val_loss: 0.4470 - val_accuracy: 0.7997\n",
      "Epoch 24/100\n",
      "141/141 [==============================] - 0s 2ms/step - loss: 0.4069 - accuracy: 0.8309 - val_loss: 0.4462 - val_accuracy: 0.8006\n",
      "Epoch 25/100\n",
      "141/141 [==============================] - 0s 2ms/step - loss: 0.4024 - accuracy: 0.8344 - val_loss: 0.4452 - val_accuracy: 0.8038\n",
      "Epoch 26/100\n",
      "141/141 [==============================] - 0s 2ms/step - loss: 0.4109 - accuracy: 0.8264 - val_loss: 0.4454 - val_accuracy: 0.8029\n",
      "Epoch 27/100\n",
      "141/141 [==============================] - 0s 2ms/step - loss: 0.4123 - accuracy: 0.8279 - val_loss: 0.4457 - val_accuracy: 0.8052\n",
      "Epoch 28/100\n",
      "141/141 [==============================] - 0s 2ms/step - loss: 0.4058 - accuracy: 0.8300 - val_loss: 0.4437 - val_accuracy: 0.8088\n",
      "Epoch 29/100\n",
      "141/141 [==============================] - 0s 2ms/step - loss: 0.4027 - accuracy: 0.8402 - val_loss: 0.4431 - val_accuracy: 0.8101\n",
      "Epoch 30/100\n",
      "141/141 [==============================] - 0s 2ms/step - loss: 0.3946 - accuracy: 0.8360 - val_loss: 0.4415 - val_accuracy: 0.8119\n",
      "Epoch 31/100\n",
      "141/141 [==============================] - 0s 2ms/step - loss: 0.4049 - accuracy: 0.8278 - val_loss: 0.4407 - val_accuracy: 0.8124\n",
      "Epoch 32/100\n",
      "141/141 [==============================] - 0s 2ms/step - loss: 0.4105 - accuracy: 0.8317 - val_loss: 0.4402 - val_accuracy: 0.8133\n",
      "Epoch 33/100\n",
      "141/141 [==============================] - 0s 2ms/step - loss: 0.4207 - accuracy: 0.8254 - val_loss: 0.4403 - val_accuracy: 0.8151\n",
      "Epoch 34/100\n",
      "141/141 [==============================] - 0s 2ms/step - loss: 0.3977 - accuracy: 0.8357 - val_loss: 0.4372 - val_accuracy: 0.8165\n",
      "Epoch 35/100\n",
      "141/141 [==============================] - 0s 2ms/step - loss: 0.3947 - accuracy: 0.8355 - val_loss: 0.4359 - val_accuracy: 0.8169\n",
      "Epoch 36/100\n",
      "141/141 [==============================] - 0s 2ms/step - loss: 0.3968 - accuracy: 0.8370 - val_loss: 0.4349 - val_accuracy: 0.8165\n",
      "Epoch 37/100\n",
      "141/141 [==============================] - 0s 2ms/step - loss: 0.3881 - accuracy: 0.8457 - val_loss: 0.4348 - val_accuracy: 0.8183\n",
      "Epoch 38/100\n",
      "141/141 [==============================] - 0s 2ms/step - loss: 0.3990 - accuracy: 0.8373 - val_loss: 0.4344 - val_accuracy: 0.8178\n",
      "Epoch 39/100\n",
      "141/141 [==============================] - 0s 2ms/step - loss: 0.3933 - accuracy: 0.8423 - val_loss: 0.4334 - val_accuracy: 0.8183\n",
      "Epoch 40/100\n",
      "141/141 [==============================] - 0s 2ms/step - loss: 0.4021 - accuracy: 0.8336 - val_loss: 0.4348 - val_accuracy: 0.8205\n",
      "Epoch 41/100\n",
      "141/141 [==============================] - 0s 2ms/step - loss: 0.3892 - accuracy: 0.8420 - val_loss: 0.4328 - val_accuracy: 0.8219\n",
      "Epoch 42/100\n",
      "141/141 [==============================] - 0s 2ms/step - loss: 0.3939 - accuracy: 0.8418 - val_loss: 0.4332 - val_accuracy: 0.8210\n",
      "Epoch 43/100\n",
      "141/141 [==============================] - 0s 2ms/step - loss: 0.3953 - accuracy: 0.8406 - val_loss: 0.4328 - val_accuracy: 0.8210\n",
      "Epoch 44/100\n",
      "141/141 [==============================] - 0s 3ms/step - loss: 0.3870 - accuracy: 0.8443 - val_loss: 0.4310 - val_accuracy: 0.8219\n",
      "Epoch 45/100\n",
      "141/141 [==============================] - 0s 3ms/step - loss: 0.3783 - accuracy: 0.8499 - val_loss: 0.4300 - val_accuracy: 0.8210\n",
      "Epoch 46/100\n",
      "141/141 [==============================] - 0s 2ms/step - loss: 0.3734 - accuracy: 0.8509 - val_loss: 0.4296 - val_accuracy: 0.8201\n",
      "Epoch 47/100\n",
      "141/141 [==============================] - 0s 3ms/step - loss: 0.3959 - accuracy: 0.8397 - val_loss: 0.4305 - val_accuracy: 0.8232\n",
      "Epoch 48/100\n",
      "141/141 [==============================] - 0s 3ms/step - loss: 0.3808 - accuracy: 0.8429 - val_loss: 0.4295 - val_accuracy: 0.8205\n",
      "Epoch 49/100\n",
      "141/141 [==============================] - 0s 2ms/step - loss: 0.3849 - accuracy: 0.8428 - val_loss: 0.4283 - val_accuracy: 0.8192\n",
      "Epoch 50/100\n",
      "141/141 [==============================] - 0s 2ms/step - loss: 0.4108 - accuracy: 0.8353 - val_loss: 0.4299 - val_accuracy: 0.8210\n",
      "Epoch 51/100\n",
      "141/141 [==============================] - 0s 2ms/step - loss: 0.3972 - accuracy: 0.8363 - val_loss: 0.4288 - val_accuracy: 0.8201\n",
      "Epoch 52/100\n",
      "141/141 [==============================] - 0s 3ms/step - loss: 0.3787 - accuracy: 0.8498 - val_loss: 0.4279 - val_accuracy: 0.8187\n",
      "Epoch 53/100\n",
      "141/141 [==============================] - 0s 3ms/step - loss: 0.3815 - accuracy: 0.8458 - val_loss: 0.4272 - val_accuracy: 0.8178\n",
      "Epoch 54/100\n",
      "141/141 [==============================] - 0s 2ms/step - loss: 0.4049 - accuracy: 0.8319 - val_loss: 0.4289 - val_accuracy: 0.8201\n",
      "Epoch 55/100\n",
      "141/141 [==============================] - 0s 2ms/step - loss: 0.3852 - accuracy: 0.8434 - val_loss: 0.4270 - val_accuracy: 0.8178\n",
      "Epoch 56/100\n",
      "141/141 [==============================] - 0s 2ms/step - loss: 0.3920 - accuracy: 0.8405 - val_loss: 0.4294 - val_accuracy: 0.8219\n",
      "Epoch 57/100\n",
      "141/141 [==============================] - 0s 2ms/step - loss: 0.3778 - accuracy: 0.8494 - val_loss: 0.4274 - val_accuracy: 0.8201\n",
      "Epoch 58/100\n",
      "141/141 [==============================] - 0s 2ms/step - loss: 0.3880 - accuracy: 0.8408 - val_loss: 0.4291 - val_accuracy: 0.8219\n",
      "Epoch 59/100\n",
      "141/141 [==============================] - 0s 2ms/step - loss: 0.3824 - accuracy: 0.8490 - val_loss: 0.4270 - val_accuracy: 0.8183\n",
      "Epoch 60/100\n",
      "141/141 [==============================] - 0s 2ms/step - loss: 0.3877 - accuracy: 0.8431 - val_loss: 0.4262 - val_accuracy: 0.8196\n",
      "Epoch 61/100\n",
      "141/141 [==============================] - 0s 2ms/step - loss: 0.3800 - accuracy: 0.8470 - val_loss: 0.4264 - val_accuracy: 0.8196\n",
      "Epoch 62/100\n",
      "141/141 [==============================] - 0s 2ms/step - loss: 0.3753 - accuracy: 0.8534 - val_loss: 0.4257 - val_accuracy: 0.8201\n",
      "Epoch 63/100\n",
      "141/141 [==============================] - 0s 2ms/step - loss: 0.3874 - accuracy: 0.8392 - val_loss: 0.4261 - val_accuracy: 0.8205\n",
      "Epoch 64/100\n",
      "141/141 [==============================] - 0s 2ms/step - loss: 0.3849 - accuracy: 0.8454 - val_loss: 0.4262 - val_accuracy: 0.8187\n",
      "Epoch 65/100\n",
      "141/141 [==============================] - 0s 2ms/step - loss: 0.3695 - accuracy: 0.8581 - val_loss: 0.4260 - val_accuracy: 0.8187\n",
      "Epoch 66/100\n",
      "141/141 [==============================] - 0s 2ms/step - loss: 0.3694 - accuracy: 0.8512 - val_loss: 0.4253 - val_accuracy: 0.8187\n",
      "Epoch 67/100\n",
      "141/141 [==============================] - 0s 2ms/step - loss: 0.3909 - accuracy: 0.8417 - val_loss: 0.4264 - val_accuracy: 0.8196\n",
      "Epoch 68/100\n",
      "141/141 [==============================] - 0s 2ms/step - loss: 0.3700 - accuracy: 0.8568 - val_loss: 0.4254 - val_accuracy: 0.8196\n",
      "Epoch 69/100\n",
      "141/141 [==============================] - 0s 2ms/step - loss: 0.3886 - accuracy: 0.8370 - val_loss: 0.4256 - val_accuracy: 0.8210\n",
      "Epoch 70/100\n",
      "141/141 [==============================] - 0s 2ms/step - loss: 0.3759 - accuracy: 0.8452 - val_loss: 0.4245 - val_accuracy: 0.8192\n",
      "Epoch 71/100\n",
      "141/141 [==============================] - 0s 2ms/step - loss: 0.3863 - accuracy: 0.8432 - val_loss: 0.4262 - val_accuracy: 0.8214\n",
      "Epoch 72/100\n",
      "141/141 [==============================] - 0s 2ms/step - loss: 0.3811 - accuracy: 0.8480 - val_loss: 0.4251 - val_accuracy: 0.8183\n",
      "Epoch 73/100\n",
      "141/141 [==============================] - 0s 2ms/step - loss: 0.3907 - accuracy: 0.8394 - val_loss: 0.4256 - val_accuracy: 0.8201\n",
      "Epoch 74/100\n",
      "141/141 [==============================] - 0s 2ms/step - loss: 0.3907 - accuracy: 0.8369 - val_loss: 0.4261 - val_accuracy: 0.8210\n",
      "Epoch 75/100\n",
      "141/141 [==============================] - 0s 2ms/step - loss: 0.3800 - accuracy: 0.8445 - val_loss: 0.4251 - val_accuracy: 0.8192\n",
      "Epoch 76/100\n",
      "141/141 [==============================] - 0s 2ms/step - loss: 0.3842 - accuracy: 0.8452 - val_loss: 0.4247 - val_accuracy: 0.8196\n",
      "Epoch 77/100\n",
      "141/141 [==============================] - 0s 2ms/step - loss: 0.4005 - accuracy: 0.8354 - val_loss: 0.4267 - val_accuracy: 0.8201\n",
      "Epoch 78/100\n",
      "141/141 [==============================] - 0s 3ms/step - loss: 0.3709 - accuracy: 0.8478 - val_loss: 0.4237 - val_accuracy: 0.8196\n",
      "Epoch 79/100\n",
      "141/141 [==============================] - 0s 2ms/step - loss: 0.3799 - accuracy: 0.8443 - val_loss: 0.4252 - val_accuracy: 0.8196\n",
      "Epoch 80/100\n",
      "141/141 [==============================] - 0s 2ms/step - loss: 0.3915 - accuracy: 0.8440 - val_loss: 0.4250 - val_accuracy: 0.8205\n",
      "Epoch 81/100\n",
      "141/141 [==============================] - 0s 2ms/step - loss: 0.3850 - accuracy: 0.8399 - val_loss: 0.4246 - val_accuracy: 0.8192\n",
      "Epoch 82/100\n",
      "141/141 [==============================] - 0s 2ms/step - loss: 0.3856 - accuracy: 0.8439 - val_loss: 0.4240 - val_accuracy: 0.8183\n",
      "Epoch 83/100\n",
      "141/141 [==============================] - 0s 2ms/step - loss: 0.3811 - accuracy: 0.8388 - val_loss: 0.4242 - val_accuracy: 0.8196\n",
      "Epoch 84/100\n",
      "141/141 [==============================] - 0s 2ms/step - loss: 0.3934 - accuracy: 0.8408 - val_loss: 0.4245 - val_accuracy: 0.8201\n",
      "Epoch 85/100\n",
      "141/141 [==============================] - 0s 2ms/step - loss: 0.3872 - accuracy: 0.8435 - val_loss: 0.4261 - val_accuracy: 0.8219\n",
      "Epoch 86/100\n",
      "141/141 [==============================] - 0s 2ms/step - loss: 0.4042 - accuracy: 0.8314 - val_loss: 0.4249 - val_accuracy: 0.8214\n",
      "Epoch 87/100\n",
      "141/141 [==============================] - 0s 2ms/step - loss: 0.3671 - accuracy: 0.8527 - val_loss: 0.4237 - val_accuracy: 0.8201\n",
      "Epoch 88/100\n",
      "141/141 [==============================] - 0s 2ms/step - loss: 0.3701 - accuracy: 0.8469 - val_loss: 0.4239 - val_accuracy: 0.8201\n",
      "Epoch 89/100\n",
      "141/141 [==============================] - 0s 2ms/step - loss: 0.3847 - accuracy: 0.8416 - val_loss: 0.4247 - val_accuracy: 0.8201\n",
      "Epoch 90/100\n",
      "141/141 [==============================] - 0s 2ms/step - loss: 0.3705 - accuracy: 0.8475 - val_loss: 0.4242 - val_accuracy: 0.8210\n",
      "Epoch 91/100\n",
      "141/141 [==============================] - 0s 2ms/step - loss: 0.3811 - accuracy: 0.8446 - val_loss: 0.4233 - val_accuracy: 0.8201\n",
      "Epoch 92/100\n",
      "141/141 [==============================] - 0s 2ms/step - loss: 0.3903 - accuracy: 0.8375 - val_loss: 0.4259 - val_accuracy: 0.8210\n",
      "Epoch 93/100\n",
      "141/141 [==============================] - 0s 2ms/step - loss: 0.3785 - accuracy: 0.8513 - val_loss: 0.4236 - val_accuracy: 0.8201\n",
      "Epoch 94/100\n",
      "141/141 [==============================] - 0s 2ms/step - loss: 0.3862 - accuracy: 0.8422 - val_loss: 0.4230 - val_accuracy: 0.8187\n",
      "Epoch 95/100\n",
      "141/141 [==============================] - 0s 2ms/step - loss: 0.3934 - accuracy: 0.8422 - val_loss: 0.4234 - val_accuracy: 0.8210\n",
      "Epoch 96/100\n",
      "141/141 [==============================] - 0s 2ms/step - loss: 0.3720 - accuracy: 0.8475 - val_loss: 0.4241 - val_accuracy: 0.8205\n",
      "Epoch 97/100\n",
      "141/141 [==============================] - 0s 2ms/step - loss: 0.3860 - accuracy: 0.8434 - val_loss: 0.4250 - val_accuracy: 0.8210\n",
      "Epoch 98/100\n",
      "141/141 [==============================] - 0s 2ms/step - loss: 0.3957 - accuracy: 0.8388 - val_loss: 0.4242 - val_accuracy: 0.8210\n",
      "Epoch 99/100\n",
      "141/141 [==============================] - 0s 2ms/step - loss: 0.3923 - accuracy: 0.8438 - val_loss: 0.4248 - val_accuracy: 0.8210\n",
      "Epoch 100/100\n",
      "141/141 [==============================] - 0s 2ms/step - loss: 0.3926 - accuracy: 0.8375 - val_loss: 0.4244 - val_accuracy: 0.8223\n"
     ]
    }
   ],
   "source": [
    "# Ajustamos la RNA al Conjunto de Entrenamiento\n",
    "# batch_size : Numero de observaciones antes de actualizar los pesos/ tamaño del bloque a procesar.\n",
    "# epochs     : Numero de iteracciones globales / Mas veces mas aprendizaje u overfitting.\n",
    "history = classifier.fit(X_train, \n",
    "                         y_train, \n",
    "                         validation_split=0.33, \n",
    "                         batch_size = 32, \n",
    "                         epochs = 100)\n",
    "# abusar de las epochs podria significar caer en un sobreajuste(overfitting)"
   ]
  },
  {
   "cell_type": "code",
   "execution_count": 64,
   "metadata": {},
   "outputs": [],
   "source": [
    "# Evaluar el modelo y calcular predicciones finales\n",
    "y_pred_train  = classifier.predict(X_train)\n",
    "y_pred_train = (y_pred_train > 0.5)\n",
    "y_pred_test = classifier.predict(X_test)\n",
    "y_pred_test = (y_pred_test > 0.5)"
   ]
  },
  {
   "cell_type": "markdown",
   "metadata": {},
   "source": [
    "### -----------------------------------------------------------------------------------------------------------------\n",
    "## **PARTE V - VALIDACION DE LA RED NEURONAL ARTIFICIAL**\n",
    "### -----------------------------------------------------------------------------------------------------------------"
   ]
  },
  {
   "cell_type": "code",
   "execution_count": 65,
   "metadata": {},
   "outputs": [
    {
     "name": "stdout",
     "output_type": "stream",
     "text": [
      "[[5181  154]\n",
      " [ 937  428]]\n",
      "------------------------\n",
      "[[2548   80]\n",
      " [ 484  188]]\n",
      "------------------------\n",
      "0.8371641791044776\n",
      "0.8290909090909091\n"
     ]
    }
   ],
   "source": [
    "# Elaborar una matriz de confusión\n",
    "from sklearn.metrics import confusion_matrix,recall_score,f1_score,accuracy_score,classification_report\n",
    "\n",
    "cm_train = confusion_matrix(y_train, y_pred_train)\n",
    "cm_test = confusion_matrix(y_test, y_pred_test)\n",
    "\n",
    "recall_train = accuracy_score(y_train, y_pred_train)\n",
    "recall_test = accuracy_score(y_test, y_pred_test)\n",
    "\n",
    "\n",
    "print(cm_train)\n",
    "print('------------------------')\n",
    "print(cm_test)\n",
    "print('------------------------')\n",
    "print(recall_train)\n",
    "print(recall_test)"
   ]
  },
  {
   "cell_type": "code",
   "execution_count": 92,
   "metadata": {
    "scrolled": true
   },
   "outputs": [
    {
     "data": {
      "text/plain": [
       "<matplotlib.axes._subplots.AxesSubplot at 0x17328315df0>"
      ]
     },
     "execution_count": 92,
     "metadata": {},
     "output_type": "execute_result"
    },
    {
     "data": {
      "image/png": "[encoded data removed]",
      "text/plain": [
       "<Figure size 432x288 with 2 Axes>"
      ]
     },
     "metadata": {
      "needs_background": "light"
     },
     "output_type": "display_data"
    }
   ],
   "source": [
    "sns.heatmap(cm_train,cmap='YlOrRd',annot=True)"
   ]
  },
  {
   "cell_type": "code",
   "execution_count": 85,
   "metadata": {},
   "outputs": [
    {
     "data": {
      "text/plain": [
       "<matplotlib.axes._subplots.AxesSubplot at 0x17328492d00>"
      ]
     },
     "execution_count": 85,
     "metadata": {},
     "output_type": "execute_result"
    },
    {
     "data": {
      "image/png": "[encoded data removed]",
      "text/plain": [
       "<Figure size 432x288 with 2 Axes>"
      ]
     },
     "metadata": {
      "needs_background": "light"
     },
     "output_type": "display_data"
    }
   ],
   "source": [
    "sns.heatmap(cm_test,cmap='YlOrRd',annot=True)"
   ]
  },
  {
   "cell_type": "code",
   "execution_count": 68,
   "metadata": {},
   "outputs": [
    {
     "data": {
      "text/plain": [
       "(2548, 80, 484, 188)"
      ]
     },
     "execution_count": 68,
     "metadata": {},
     "output_type": "execute_result"
    }
   ],
   "source": [
    "tn,fp,fn,tp = confusion_matrix(y_test,y_pred_test).ravel()\n",
    "(tn,fp,fn,tp)"
   ]
  },
  {
   "cell_type": "code",
   "execution_count": 93,
   "metadata": {},
   "outputs": [],
   "source": [
    "#Generamos la matriz de reporte"
   ]
  },
  {
   "cell_type": "code",
   "execution_count": 71,
   "metadata": {},
   "outputs": [
    {
     "name": "stdout",
     "output_type": "stream",
     "text": [
      "Classification Report-Train: \n",
      "               precision    recall  f1-score   support\n",
      "\n",
      "           0       0.85      0.97      0.90      5335\n",
      "           1       0.74      0.31      0.44      1365\n",
      "\n",
      "    accuracy                           0.84      6700\n",
      "   macro avg       0.79      0.64      0.67      6700\n",
      "weighted avg       0.82      0.84      0.81      6700\n",
      "\n"
     ]
    }
   ],
   "source": [
    "matrix_train = classification_report(y_train,y_pred_train)\n",
    "print('Classification Report-Train: \\n', matrix_train)"
   ]
  },
  {
   "cell_type": "code",
   "execution_count": 70,
   "metadata": {},
   "outputs": [
    {
     "name": "stdout",
     "output_type": "stream",
     "text": [
      "Classification Report: \n",
      "               precision    recall  f1-score   support\n",
      "\n",
      "           0       0.84      0.97      0.90      2628\n",
      "           1       0.70      0.28      0.40       672\n",
      "\n",
      "    accuracy                           0.83      3300\n",
      "   macro avg       0.77      0.62      0.65      3300\n",
      "weighted avg       0.81      0.83      0.80      3300\n",
      "\n"
     ]
    }
   ],
   "source": [
    "matrix_test = classification_report(y_test,y_pred_test)\n",
    "print('Classification Report-Test: \\n', matrix_test)"
   ]
  },
  {
   "cell_type": "code",
   "execution_count": 73,
   "metadata": {},
   "outputs": [
    {
     "data": {
      "image/png": "[encoded data removed]",
      "text/plain": [
       "<Figure size 432x288 with 1 Axes>"
      ]
     },
     "metadata": {
      "needs_background": "light"
     },
     "output_type": "display_data"
    }
   ],
   "source": [
    "# Resumen del historial del accuracy!\n",
    "plt.plot(history.history['accuracy'])\n",
    "plt.plot(history.history['val_accuracy'])\n",
    "plt.title('model accuracy')\n",
    "plt.ylabel('accuracy')\n",
    "plt.xlabel('epoch')\n",
    "plt.legend(['train', 'test'], loc='upper left')\n",
    "plt.show()"
   ]
  },
  {
   "cell_type": "code",
   "execution_count": 74,
   "metadata": {},
   "outputs": [
    {
     "data": {
      "image/png": "[encoded data removed]",
      "text/plain": [
       "<Figure size 432x288 with 1 Axes>"
      ]
     },
     "metadata": {
      "needs_background": "light"
     },
     "output_type": "display_data"
    }
   ],
   "source": [
    "# Resumen del historial del error!\n",
    "plt.plot(history.history['loss'])\n",
    "plt.plot(history.history['val_loss'])\n",
    "plt.title('model loss')\n",
    "plt.ylabel('loss')\n",
    "plt.xlabel('epoch')\n",
    "plt.legend(['train', 'test'], loc='upper left')\n",
    "plt.show()"
   ]
  }
 ],
 "metadata": {
  "kernelspec": {
   "display_name": "Python 3",
   "language": "python",
   "name": "python3"
  },
  "language_info": {
   "codemirror_mode": {
    "name": "ipython",
    "version": 3
   },
   "file_extension": ".py",
   "mimetype": "text/x-python",
   "name": "python",
   "nbconvert_exporter": "python",
   "pygments_lexer": "ipython3",
   "version": "3.8.3"
  }
 },
 "nbformat": 4,
 "nbformat_minor": 4
}
