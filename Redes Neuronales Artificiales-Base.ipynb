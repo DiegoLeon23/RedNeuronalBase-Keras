{
 "cells": [
  {
   "cell_type": "markdown",
   "metadata": {},
   "source": [
    "# Desarrollo de una Red Neuronal Basica paso a paso"
   ]
  },
  {
   "cell_type": "code",
   "execution_count": 58,
   "metadata": {},
   "outputs": [],
   "source": [
    "# Importamos las librerias necesarias\n",
    "import numpy as np\n",
    "import matplotlib.pyplot as plt\n",
    "import pandas as pd\n",
    "import os \n",
    "import seaborn as sns\n",
    "import warnings\n",
    "warnings.filterwarnings(\"ignore\")"
   ]
  },
  {
   "cell_type": "code",
   "execution_count": 2,
   "metadata": {},
   "outputs": [],
   "source": [
    "# Importar el data set\n",
    "os.chdir('D:\\DMC VIDEOS\\DEEP LEARNING INMERSION\\MOD1\\MATERIALES')"
   ]
  },
  {
   "cell_type": "code",
   "execution_count": 3,
   "metadata": {},
   "outputs": [],
   "source": [
    "miArchivo='Churn_Modelling.csv'\n",
    "df=pd.read_csv(miArchivo)"
   ]
  },
  {
   "cell_type": "markdown",
   "metadata": {},
   "source": [
    "### ------------------------------------------------------------------------------------------------------------\n",
    "## **PARTE I - ENTENDIMIENTO Y TRATAMIENTO DE DATOS**\n",
    "### ------------------------------------------------------------------------------------------------------------"
   ]
  },
  {
   "cell_type": "code",
   "execution_count": 4,
   "metadata": {},
   "outputs": [
    {
     "data": {
      "text/plain": [
       "(10000, 14)"
      ]
     },
     "execution_count": 4,
     "metadata": {},
     "output_type": "execute_result"
    }
   ],
   "source": [
    "# Revisamos la dimension del dataset!\n",
    "df.shape"
   ]
  },
  {
   "cell_type": "code",
   "execution_count": 5,
   "metadata": {},
   "outputs": [
    {
     "data": {
      "text/html": [
       "<div>\n",
       "<style scoped>\n",
       "    .dataframe tbody tr th:only-of-type {\n",
       "        vertical-align: middle;\n",
       "    }\n",
       "\n",
       "    .dataframe tbody tr th {\n",
       "        vertical-align: top;\n",
       "    }\n",
       "\n",
       "    .dataframe thead th {\n",
       "        text-align: right;\n",
       "    }\n",
       "</style>\n",
       "<table border=\"1\" class=\"dataframe\">\n",
       "  <thead>\n",
       "    <tr style=\"text-align: right;\">\n",
       "      <th></th>\n",
       "      <th>RowNumber</th>\n",
       "      <th>CustomerId</th>\n",
       "      <th>Surname</th>\n",
       "      <th>CreditScore</th>\n",
       "      <th>Geography</th>\n",
       "      <th>Gender</th>\n",
       "      <th>Age</th>\n",
       "      <th>Tenure</th>\n",
       "      <th>Balance</th>\n",
       "      <th>NumOfProducts</th>\n",
       "      <th>HasCrCard</th>\n",
       "      <th>IsActiveMember</th>\n",
       "      <th>EstimatedSalary</th>\n",
       "      <th>Exited</th>\n",
       "    </tr>\n",
       "  </thead>\n",
       "  <tbody>\n",
       "    <tr>\n",
       "      <th>0</th>\n",
       "      <td>1</td>\n",
       "      <td>15634602</td>\n",
       "      <td>Hargrave</td>\n",
       "      <td>619</td>\n",
       "      <td>France</td>\n",
       "      <td>Female</td>\n",
       "      <td>42</td>\n",
       "      <td>2</td>\n",
       "      <td>0.00</td>\n",
       "      <td>1</td>\n",
       "      <td>1</td>\n",
       "      <td>1</td>\n",
       "      <td>101348.88</td>\n",
       "      <td>1</td>\n",
       "    </tr>\n",
       "    <tr>\n",
       "      <th>1</th>\n",
       "      <td>2</td>\n",
       "      <td>15647311</td>\n",
       "      <td>Hill</td>\n",
       "      <td>608</td>\n",
       "      <td>Spain</td>\n",
       "      <td>Female</td>\n",
       "      <td>41</td>\n",
       "      <td>1</td>\n",
       "      <td>83807.86</td>\n",
       "      <td>1</td>\n",
       "      <td>0</td>\n",
       "      <td>1</td>\n",
       "      <td>112542.58</td>\n",
       "      <td>0</td>\n",
       "    </tr>\n",
       "    <tr>\n",
       "      <th>2</th>\n",
       "      <td>3</td>\n",
       "      <td>15619304</td>\n",
       "      <td>Onio</td>\n",
       "      <td>502</td>\n",
       "      <td>France</td>\n",
       "      <td>Female</td>\n",
       "      <td>42</td>\n",
       "      <td>8</td>\n",
       "      <td>159660.80</td>\n",
       "      <td>3</td>\n",
       "      <td>1</td>\n",
       "      <td>0</td>\n",
       "      <td>113931.57</td>\n",
       "      <td>1</td>\n",
       "    </tr>\n",
       "    <tr>\n",
       "      <th>3</th>\n",
       "      <td>4</td>\n",
       "      <td>15701354</td>\n",
       "      <td>Boni</td>\n",
       "      <td>699</td>\n",
       "      <td>France</td>\n",
       "      <td>Female</td>\n",
       "      <td>39</td>\n",
       "      <td>1</td>\n",
       "      <td>0.00</td>\n",
       "      <td>2</td>\n",
       "      <td>0</td>\n",
       "      <td>0</td>\n",
       "      <td>93826.63</td>\n",
       "      <td>0</td>\n",
       "    </tr>\n",
       "    <tr>\n",
       "      <th>4</th>\n",
       "      <td>5</td>\n",
       "      <td>15737888</td>\n",
       "      <td>Mitchell</td>\n",
       "      <td>850</td>\n",
       "      <td>Spain</td>\n",
       "      <td>Female</td>\n",
       "      <td>43</td>\n",
       "      <td>2</td>\n",
       "      <td>125510.82</td>\n",
       "      <td>1</td>\n",
       "      <td>1</td>\n",
       "      <td>1</td>\n",
       "      <td>79084.10</td>\n",
       "      <td>0</td>\n",
       "    </tr>\n",
       "    <tr>\n",
       "      <th>5</th>\n",
       "      <td>6</td>\n",
       "      <td>15574012</td>\n",
       "      <td>Chu</td>\n",
       "      <td>645</td>\n",
       "      <td>Spain</td>\n",
       "      <td>Male</td>\n",
       "      <td>44</td>\n",
       "      <td>8</td>\n",
       "      <td>113755.78</td>\n",
       "      <td>2</td>\n",
       "      <td>1</td>\n",
       "      <td>0</td>\n",
       "      <td>149756.71</td>\n",
       "      <td>1</td>\n",
       "    </tr>\n",
       "    <tr>\n",
       "      <th>6</th>\n",
       "      <td>7</td>\n",
       "      <td>15592531</td>\n",
       "      <td>Bartlett</td>\n",
       "      <td>822</td>\n",
       "      <td>France</td>\n",
       "      <td>Male</td>\n",
       "      <td>50</td>\n",
       "      <td>7</td>\n",
       "      <td>0.00</td>\n",
       "      <td>2</td>\n",
       "      <td>1</td>\n",
       "      <td>1</td>\n",
       "      <td>10062.80</td>\n",
       "      <td>0</td>\n",
       "    </tr>\n",
       "    <tr>\n",
       "      <th>7</th>\n",
       "      <td>8</td>\n",
       "      <td>15656148</td>\n",
       "      <td>Obinna</td>\n",
       "      <td>376</td>\n",
       "      <td>Germany</td>\n",
       "      <td>Female</td>\n",
       "      <td>29</td>\n",
       "      <td>4</td>\n",
       "      <td>115046.74</td>\n",
       "      <td>4</td>\n",
       "      <td>1</td>\n",
       "      <td>0</td>\n",
       "      <td>119346.88</td>\n",
       "      <td>1</td>\n",
       "    </tr>\n",
       "    <tr>\n",
       "      <th>8</th>\n",
       "      <td>9</td>\n",
       "      <td>15792365</td>\n",
       "      <td>He</td>\n",
       "      <td>501</td>\n",
       "      <td>France</td>\n",
       "      <td>Male</td>\n",
       "      <td>44</td>\n",
       "      <td>4</td>\n",
       "      <td>142051.07</td>\n",
       "      <td>2</td>\n",
       "      <td>0</td>\n",
       "      <td>1</td>\n",
       "      <td>74940.50</td>\n",
       "      <td>0</td>\n",
       "    </tr>\n",
       "    <tr>\n",
       "      <th>9</th>\n",
       "      <td>10</td>\n",
       "      <td>15592389</td>\n",
       "      <td>H?</td>\n",
       "      <td>684</td>\n",
       "      <td>France</td>\n",
       "      <td>Male</td>\n",
       "      <td>27</td>\n",
       "      <td>2</td>\n",
       "      <td>134603.88</td>\n",
       "      <td>1</td>\n",
       "      <td>1</td>\n",
       "      <td>1</td>\n",
       "      <td>71725.73</td>\n",
       "      <td>0</td>\n",
       "    </tr>\n",
       "  </tbody>\n",
       "</table>\n",
       "</div>"
      ],
      "text/plain": [
       "   RowNumber  CustomerId   Surname  CreditScore Geography  Gender  Age  \\\n",
       "0          1    15634602  Hargrave          619    France  Female   42   \n",
       "1          2    15647311      Hill          608     Spain  Female   41   \n",
       "2          3    15619304      Onio          502    France  Female   42   \n",
       "3          4    15701354      Boni          699    France  Female   39   \n",
       "4          5    15737888  Mitchell          850     Spain  Female   43   \n",
       "5          6    15574012       Chu          645     Spain    Male   44   \n",
       "6          7    15592531  Bartlett          822    France    Male   50   \n",
       "7          8    15656148    Obinna          376   Germany  Female   29   \n",
       "8          9    15792365        He          501    France    Male   44   \n",
       "9         10    15592389        H?          684    France    Male   27   \n",
       "\n",
       "   Tenure    Balance  NumOfProducts  HasCrCard  IsActiveMember  \\\n",
       "0       2       0.00              1          1               1   \n",
       "1       1   83807.86              1          0               1   \n",
       "2       8  159660.80              3          1               0   \n",
       "3       1       0.00              2          0               0   \n",
       "4       2  125510.82              1          1               1   \n",
       "5       8  113755.78              2          1               0   \n",
       "6       7       0.00              2          1               1   \n",
       "7       4  115046.74              4          1               0   \n",
       "8       4  142051.07              2          0               1   \n",
       "9       2  134603.88              1          1               1   \n",
       "\n",
       "   EstimatedSalary  Exited  \n",
       "0        101348.88       1  \n",
       "1        112542.58       0  \n",
       "2        113931.57       1  \n",
       "3         93826.63       0  \n",
       "4         79084.10       0  \n",
       "5        149756.71       1  \n",
       "6         10062.80       0  \n",
       "7        119346.88       1  \n",
       "8         74940.50       0  \n",
       "9         71725.73       0  "
      ]
     },
     "execution_count": 5,
     "metadata": {},
     "output_type": "execute_result"
    }
   ],
   "source": [
    "# Revisamos los primeros registros del set de datos\n",
    "df.head(10)"
   ]
  },
  {
   "cell_type": "code",
   "execution_count": 6,
   "metadata": {},
   "outputs": [],
   "source": [
    "#Funcion desarrollada para visualizar la data en base a nuestra target\n",
    "def printBalanceo(data, field_grouping, data_name):\n",
    "    print(\"\\nCantidad de elementos por Clase en \", data_name, \":\")\n",
    "    target_count = data[field_grouping].value_counts()\n",
    "    target_count.plot(kind='bar', title='Count (' + field_grouping + ')');\n",
    "\n",
    "    print('Clase 0:', target_count[0], \"({:.2%})\".format(round(target_count[0] / (target_count[0]+target_count[1]), 2)))\n",
    "    print('Clase 1:', target_count[1], \"({:.2%})\".format(round(target_count[1] / (target_count[0]+target_count[1]), 2)))\n",
    "    print('Total  :', data.shape[0])"
   ]
  },
  {
   "cell_type": "code",
   "execution_count": 7,
   "metadata": {
    "scrolled": false
   },
   "outputs": [
    {
     "name": "stdout",
     "output_type": "stream",
     "text": [
      "\n",
      "Cantidad de elementos por Clase en  Dataset :\n",
      "Clase 0: 7963 (80.00%)\n",
      "Clase 1: 2037 (20.00%)\n",
      "Total  : 10000\n"
     ]
    },
    {
     "data": {
      "image/png": "[encoded data removed]",
      "text/plain": [
       "<Figure size 432x288 with 1 Axes>"
      ]
     },
     "metadata": {
      "needs_background": "light"
     },
     "output_type": "display_data"
    }
   ],
   "source": [
    "# Revisamos el target del set de datos!\n",
    "printBalanceo(df,'Exited','Dataset')"
   ]
  },
  {
   "cell_type": "code",
   "execution_count": 8,
   "metadata": {},
   "outputs": [],
   "source": [
    "#Separamos las columnas numericas y las categoricas (Es recomendable hacer esta separación por buenas prácticas)\n",
    "ColumnsCategóricas = ['Geography','Gender','HasCrCard','IsActiveMember','Exited']\n",
    "ColumnsNumericas = ['CreditScore','Age', 'Tenure', 'Balance', 'NumOfProducts','EstimatedSalary']"
   ]
  },
  {
   "cell_type": "code",
   "execution_count": 9,
   "metadata": {},
   "outputs": [
    {
     "data": {
      "text/plain": [
       "RowNumber          0\n",
       "CustomerId         0\n",
       "Surname            0\n",
       "CreditScore        0\n",
       "Geography          0\n",
       "Gender             0\n",
       "Age                0\n",
       "Tenure             0\n",
       "Balance            0\n",
       "NumOfProducts      0\n",
       "HasCrCard          0\n",
       "IsActiveMember     0\n",
       "EstimatedSalary    0\n",
       "Exited             0\n",
       "dtype: int64"
      ]
     },
     "execution_count": 9,
     "metadata": {},
     "output_type": "execute_result"
    }
   ],
   "source": [
    "#Antes de hacer cualquier trabajo con los datos, vemos los valores nulos\n",
    "df.isnull().sum()"
   ]
  },
  {
   "cell_type": "code",
   "execution_count": 10,
   "metadata": {},
   "outputs": [],
   "source": [
    "#Creamos 2 dataset de variables categoricas!\n",
    "df_categoricas_01=df[ColumnsCategóricas]"
   ]
  },
  {
   "cell_type": "code",
   "execution_count": 11,
   "metadata": {},
   "outputs": [
    {
     "data": {
      "text/html": [
       "<div>\n",
       "<style scoped>\n",
       "    .dataframe tbody tr th:only-of-type {\n",
       "        vertical-align: middle;\n",
       "    }\n",
       "\n",
       "    .dataframe tbody tr th {\n",
       "        vertical-align: top;\n",
       "    }\n",
       "\n",
       "    .dataframe thead th {\n",
       "        text-align: right;\n",
       "    }\n",
       "</style>\n",
       "<table border=\"1\" class=\"dataframe\">\n",
       "  <thead>\n",
       "    <tr style=\"text-align: right;\">\n",
       "      <th></th>\n",
       "      <th>Geography</th>\n",
       "      <th>Gender</th>\n",
       "      <th>HasCrCard</th>\n",
       "      <th>IsActiveMember</th>\n",
       "      <th>Exited</th>\n",
       "    </tr>\n",
       "  </thead>\n",
       "  <tbody>\n",
       "    <tr>\n",
       "      <th>0</th>\n",
       "      <td>France</td>\n",
       "      <td>Female</td>\n",
       "      <td>1</td>\n",
       "      <td>1</td>\n",
       "      <td>1</td>\n",
       "    </tr>\n",
       "    <tr>\n",
       "      <th>1</th>\n",
       "      <td>Spain</td>\n",
       "      <td>Female</td>\n",
       "      <td>0</td>\n",
       "      <td>1</td>\n",
       "      <td>0</td>\n",
       "    </tr>\n",
       "    <tr>\n",
       "      <th>2</th>\n",
       "      <td>France</td>\n",
       "      <td>Female</td>\n",
       "      <td>1</td>\n",
       "      <td>0</td>\n",
       "      <td>1</td>\n",
       "    </tr>\n",
       "    <tr>\n",
       "      <th>3</th>\n",
       "      <td>France</td>\n",
       "      <td>Female</td>\n",
       "      <td>0</td>\n",
       "      <td>0</td>\n",
       "      <td>0</td>\n",
       "    </tr>\n",
       "    <tr>\n",
       "      <th>4</th>\n",
       "      <td>Spain</td>\n",
       "      <td>Female</td>\n",
       "      <td>1</td>\n",
       "      <td>1</td>\n",
       "      <td>0</td>\n",
       "    </tr>\n",
       "  </tbody>\n",
       "</table>\n",
       "</div>"
      ],
      "text/plain": [
       "  Geography  Gender  HasCrCard  IsActiveMember  Exited\n",
       "0    France  Female          1               1       1\n",
       "1     Spain  Female          0               1       0\n",
       "2    France  Female          1               0       1\n",
       "3    France  Female          0               0       0\n",
       "4     Spain  Female          1               1       0"
      ]
     },
     "execution_count": 11,
     "metadata": {},
     "output_type": "execute_result"
    }
   ],
   "source": [
    "df_categoricas_01.head()"
   ]
  },
  {
   "cell_type": "code",
   "execution_count": 12,
   "metadata": {
    "scrolled": true
   },
   "outputs": [
    {
     "name": "stdout",
     "output_type": "stream",
     "text": [
      "Geography\n",
      "Gender\n",
      "HasCrCard\n",
      "IsActiveMember\n",
      "Exited\n"
     ]
    },
    {
     "name": "stderr",
     "output_type": "stream",
     "text": [
      "<ipython-input-12-1d44c07cf1d0>:8: SettingWithCopyWarning: \n",
      "A value is trying to be set on a copy of a slice from a DataFrame.\n",
      "Try using .loc[row_indexer,col_indexer] = value instead\n",
      "\n",
      "See the caveats in the documentation: https://pandas.pydata.org/pandas-docs/stable/user_guide/indexing.html#returning-a-view-versus-a-copy\n",
      "  df_categoricas_01[str(c)]=le.fit_transform(df_categoricas_01[str(c)])\n"
     ]
    }
   ],
   "source": [
    "#Tratamiento de Variables Categoricas\n",
    "# LabelEncoder\n",
    "from sklearn.preprocessing import LabelEncoder\n",
    "\n",
    "for c in df_categoricas_01:\n",
    "    print(str(c))\n",
    "    le=LabelEncoder()\n",
    "    df_categoricas_01[str(c)]=le.fit_transform(df_categoricas_01[str(c)])"
   ]
  },
  {
   "cell_type": "code",
   "execution_count": 13,
   "metadata": {
    "scrolled": true
   },
   "outputs": [
    {
     "data": {
      "text/html": [
       "<div>\n",
       "<style scoped>\n",
       "    .dataframe tbody tr th:only-of-type {\n",
       "        vertical-align: middle;\n",
       "    }\n",
       "\n",
       "    .dataframe tbody tr th {\n",
       "        vertical-align: top;\n",
       "    }\n",
       "\n",
       "    .dataframe thead th {\n",
       "        text-align: right;\n",
       "    }\n",
       "</style>\n",
       "<table border=\"1\" class=\"dataframe\">\n",
       "  <thead>\n",
       "    <tr style=\"text-align: right;\">\n",
       "      <th></th>\n",
       "      <th>Geography</th>\n",
       "      <th>Gender</th>\n",
       "      <th>HasCrCard</th>\n",
       "      <th>IsActiveMember</th>\n",
       "      <th>Exited</th>\n",
       "    </tr>\n",
       "  </thead>\n",
       "  <tbody>\n",
       "    <tr>\n",
       "      <th>0</th>\n",
       "      <td>0</td>\n",
       "      <td>0</td>\n",
       "      <td>1</td>\n",
       "      <td>1</td>\n",
       "      <td>1</td>\n",
       "    </tr>\n",
       "    <tr>\n",
       "      <th>1</th>\n",
       "      <td>2</td>\n",
       "      <td>0</td>\n",
       "      <td>0</td>\n",
       "      <td>1</td>\n",
       "      <td>0</td>\n",
       "    </tr>\n",
       "    <tr>\n",
       "      <th>2</th>\n",
       "      <td>0</td>\n",
       "      <td>0</td>\n",
       "      <td>1</td>\n",
       "      <td>0</td>\n",
       "      <td>1</td>\n",
       "    </tr>\n",
       "    <tr>\n",
       "      <th>3</th>\n",
       "      <td>0</td>\n",
       "      <td>0</td>\n",
       "      <td>0</td>\n",
       "      <td>0</td>\n",
       "      <td>0</td>\n",
       "    </tr>\n",
       "    <tr>\n",
       "      <th>4</th>\n",
       "      <td>2</td>\n",
       "      <td>0</td>\n",
       "      <td>1</td>\n",
       "      <td>1</td>\n",
       "      <td>0</td>\n",
       "    </tr>\n",
       "  </tbody>\n",
       "</table>\n",
       "</div>"
      ],
      "text/plain": [
       "   Geography  Gender  HasCrCard  IsActiveMember  Exited\n",
       "0          0       0          1               1       1\n",
       "1          2       0          0               1       0\n",
       "2          0       0          1               0       1\n",
       "3          0       0          0               0       0\n",
       "4          2       0          1               1       0"
      ]
     },
     "execution_count": 13,
     "metadata": {},
     "output_type": "execute_result"
    }
   ],
   "source": [
    "df_categoricas_01.head()"
   ]
  },
  {
   "cell_type": "code",
   "execution_count": 14,
   "metadata": {},
   "outputs": [],
   "source": [
    "#Concatenamos las información!\n",
    "df2 = pd.concat([df[ColumnsNumericas],df_categoricas_01],axis=1)"
   ]
  },
  {
   "cell_type": "code",
   "execution_count": 15,
   "metadata": {},
   "outputs": [
    {
     "data": {
      "text/html": [
       "<div>\n",
       "<style scoped>\n",
       "    .dataframe tbody tr th:only-of-type {\n",
       "        vertical-align: middle;\n",
       "    }\n",
       "\n",
       "    .dataframe tbody tr th {\n",
       "        vertical-align: top;\n",
       "    }\n",
       "\n",
       "    .dataframe thead th {\n",
       "        text-align: right;\n",
       "    }\n",
       "</style>\n",
       "<table border=\"1\" class=\"dataframe\">\n",
       "  <thead>\n",
       "    <tr style=\"text-align: right;\">\n",
       "      <th></th>\n",
       "      <th>CreditScore</th>\n",
       "      <th>Age</th>\n",
       "      <th>Tenure</th>\n",
       "      <th>Balance</th>\n",
       "      <th>NumOfProducts</th>\n",
       "      <th>EstimatedSalary</th>\n",
       "      <th>Geography</th>\n",
       "      <th>Gender</th>\n",
       "      <th>HasCrCard</th>\n",
       "      <th>IsActiveMember</th>\n",
       "      <th>Exited</th>\n",
       "    </tr>\n",
       "  </thead>\n",
       "  <tbody>\n",
       "    <tr>\n",
       "      <th>0</th>\n",
       "      <td>619</td>\n",
       "      <td>42</td>\n",
       "      <td>2</td>\n",
       "      <td>0.00</td>\n",
       "      <td>1</td>\n",
       "      <td>101348.88</td>\n",
       "      <td>0</td>\n",
       "      <td>0</td>\n",
       "      <td>1</td>\n",
       "      <td>1</td>\n",
       "      <td>1</td>\n",
       "    </tr>\n",
       "    <tr>\n",
       "      <th>1</th>\n",
       "      <td>608</td>\n",
       "      <td>41</td>\n",
       "      <td>1</td>\n",
       "      <td>83807.86</td>\n",
       "      <td>1</td>\n",
       "      <td>112542.58</td>\n",
       "      <td>2</td>\n",
       "      <td>0</td>\n",
       "      <td>0</td>\n",
       "      <td>1</td>\n",
       "      <td>0</td>\n",
       "    </tr>\n",
       "    <tr>\n",
       "      <th>2</th>\n",
       "      <td>502</td>\n",
       "      <td>42</td>\n",
       "      <td>8</td>\n",
       "      <td>159660.80</td>\n",
       "      <td>3</td>\n",
       "      <td>113931.57</td>\n",
       "      <td>0</td>\n",
       "      <td>0</td>\n",
       "      <td>1</td>\n",
       "      <td>0</td>\n",
       "      <td>1</td>\n",
       "    </tr>\n",
       "    <tr>\n",
       "      <th>3</th>\n",
       "      <td>699</td>\n",
       "      <td>39</td>\n",
       "      <td>1</td>\n",
       "      <td>0.00</td>\n",
       "      <td>2</td>\n",
       "      <td>93826.63</td>\n",
       "      <td>0</td>\n",
       "      <td>0</td>\n",
       "      <td>0</td>\n",
       "      <td>0</td>\n",
       "      <td>0</td>\n",
       "    </tr>\n",
       "    <tr>\n",
       "      <th>4</th>\n",
       "      <td>850</td>\n",
       "      <td>43</td>\n",
       "      <td>2</td>\n",
       "      <td>125510.82</td>\n",
       "      <td>1</td>\n",
       "      <td>79084.10</td>\n",
       "      <td>2</td>\n",
       "      <td>0</td>\n",
       "      <td>1</td>\n",
       "      <td>1</td>\n",
       "      <td>0</td>\n",
       "    </tr>\n",
       "  </tbody>\n",
       "</table>\n",
       "</div>"
      ],
      "text/plain": [
       "   CreditScore  Age  Tenure    Balance  NumOfProducts  EstimatedSalary  \\\n",
       "0          619   42       2       0.00              1        101348.88   \n",
       "1          608   41       1   83807.86              1        112542.58   \n",
       "2          502   42       8  159660.80              3        113931.57   \n",
       "3          699   39       1       0.00              2         93826.63   \n",
       "4          850   43       2  125510.82              1         79084.10   \n",
       "\n",
       "   Geography  Gender  HasCrCard  IsActiveMember  Exited  \n",
       "0          0       0          1               1       1  \n",
       "1          2       0          0               1       0  \n",
       "2          0       0          1               0       1  \n",
       "3          0       0          0               0       0  \n",
       "4          2       0          1               1       0  "
      ]
     },
     "execution_count": 15,
     "metadata": {},
     "output_type": "execute_result"
    }
   ],
   "source": [
    "#Ya tenemos nuestra data de manera numerica\n",
    "df2.head()"
   ]
  },
  {
   "cell_type": "code",
   "execution_count": 16,
   "metadata": {},
   "outputs": [],
   "source": [
    "#Separamos las covariables y la target !\n",
    "X=df2.iloc[:,:10]\n",
    "y=df2.iloc[:,10]"
   ]
  },
  {
   "cell_type": "markdown",
   "metadata": {},
   "source": [
    "### ------------------------------------------------------------------------------------------------------------------------\n",
    "## **PARTE II - PARTICION MUESTRAL  Y ESCALAMIENTO DE DATOS**\n",
    "### ------------------------------------------------------------------------------------------------------------------------"
   ]
  },
  {
   "cell_type": "code",
   "execution_count": 17,
   "metadata": {},
   "outputs": [],
   "source": [
    "#Dividir el data set en conjunto de entrenamiento y conjunto de testing\n",
    "from sklearn.model_selection import train_test_split\n",
    "X_train,X_test,y_train,y_test = train_test_split(X, #covariables\n",
    "                                                 y, #target\n",
    "                                                 test_size=0.33, #33% de la data total para data de testing\n",
    "                                                 random_state=111,\n",
    "                                                 stratify=y)"
   ]
  },
  {
   "cell_type": "code",
   "execution_count": 18,
   "metadata": {},
   "outputs": [],
   "source": [
    "#Importante !!!\n",
    "#Escalado de variables\n",
    "from sklearn.preprocessing import StandardScaler #Importamos el modulo\n",
    "sc_X=StandardScaler()                            #Definimos la funcion\n",
    "X_train = sc_X.fit_transform(X_train)            # entrenamos y aplicamos\n",
    "X_test = sc_X.fit_transform(X_test)              # entrenamos y aplicamos"
   ]
  },
  {
   "cell_type": "markdown",
   "metadata": {},
   "source": [
    "### ------------------------------------------------------------------------------------------------------------------------\n",
    "## **PARTE III - CONSTRUCCION DE LA RED NEURONAL ARTIFICIAL**\n",
    "### ------------------------------------------------------------------------------------------------------------------------"
   ]
  },
  {
   "cell_type": "code",
   "execution_count": 19,
   "metadata": {},
   "outputs": [],
   "source": [
    "#pip install keras"
   ]
  },
  {
   "cell_type": "code",
   "execution_count": 20,
   "metadata": {},
   "outputs": [],
   "source": [
    "# Importar Keras y librerías adicionales\n",
    "import keras\n",
    "from keras.models import Sequential # Arquitectura de la red\n",
    "from keras.layers import Dense      # Capas de las redes neuronales\n",
    "from keras.layers import Dropout    # Regularizacion / Evita sobreajuste"
   ]
  },
  {
   "cell_type": "code",
   "execution_count": 21,
   "metadata": {},
   "outputs": [],
   "source": [
    "# Inicializar la RNA.\n",
    "# Si la definimos como secuencia de capas es mucho mas facil despues trabajar con ellas.\n",
    "classifier = Sequential() # Podria codificar aca las capas y demas pero lo hacemos una a una."
   ]
  },
  {
   "cell_type": "code",
   "execution_count": 22,
   "metadata": {},
   "outputs": [],
   "source": [
    "# Añadir las capas de entrada y primera capa oculta\n",
    "# Dense es un tipo de capa, la necesitamos codificar. \n",
    "# units : Numero de neuronas\n",
    "# kernel_initializer : Inicializacion de pesos.\n",
    "# activation : Funcion de activacion que te ayuda a la ingenieria de variables!(evita la linealidad)\n",
    "# input_dim : Es el numero de variables o X o features.\n",
    "classifier.add(Dense(units = 6, kernel_initializer = \"uniform\",  activation = \"relu\", input_dim = 10)) # Primera capa oculta\n",
    "#classifier.add(Dropout(p = 0.05))"
   ]
  },
  {
   "cell_type": "code",
   "execution_count": 23,
   "metadata": {},
   "outputs": [],
   "source": [
    "# Añadir la segunda capa oculta\n",
    "classifier.add(Dense(units = 6, kernel_initializer = \"uniform\",  activation = \"relu\"))\n",
    "#classifier.add(Dropout(p = 0.01)) # Regularización"
   ]
  },
  {
   "cell_type": "code",
   "execution_count": 24,
   "metadata": {},
   "outputs": [],
   "source": [
    "# Añadir la capa de salida\n",
    "# Solo necesitamos una unidad pues tenemos un resultado binario.\n",
    "classifier.add(Dense(units = 1, kernel_initializer = \"uniform\",  activation = \"sigmoid\"))\n",
    "# Si tengo mas de 2 categorias , puedo mantener la funcion de activacion sigmoide? +1\n",
    "#Si es multinomial, la que me convendria sería softmax"
   ]
  },
  {
   "cell_type": "code",
   "execution_count": 25,
   "metadata": {},
   "outputs": [],
   "source": [
    "# Compilar la RNA\n",
    "# Podemos probar con distintos optimizadores\n",
    "#loss=funcion de costo \n",
    "    #-----------binary_crossentropy(entropia cruzada)-para clasificacion\n",
    "    #-----------Error cuadratico medio(MSE) -para regresion(se cambiara la funcion de activation de la capa salida )\n",
    "#optimizer\n",
    "classifier.compile(optimizer = \"adam\", loss = \"binary_crossentropy\", metrics = [\"accuracy\"])"
   ]
  },
  {
   "cell_type": "code",
   "execution_count": 26,
   "metadata": {},
   "outputs": [
    {
     "name": "stdout",
     "output_type": "stream",
     "text": [
      "Model: \"sequential\"\n",
      "_________________________________________________________________\n",
      "Layer (type)                 Output Shape              Param #   \n",
      "=================================================================\n",
      "dense (Dense)                (None, 6)                 66        \n",
      "_________________________________________________________________\n",
      "dense_1 (Dense)              (None, 6)                 42        \n",
      "_________________________________________________________________\n",
      "dense_2 (Dense)              (None, 1)                 7         \n",
      "=================================================================\n",
      "Total params: 115\n",
      "Trainable params: 115\n",
      "Non-trainable params: 0\n",
      "_________________________________________________________________\n"
     ]
    }
   ],
   "source": [
    "classifier.summary() #Visualizamos nuestra arquitectura de red"
   ]
  },
  {
   "cell_type": "markdown",
   "metadata": {},
   "source": [
    "### ------------------------------------------------------------------------------------------------------------------------\n",
    "## **PARTE IV - ENTRENAMIENTO DE LA RED NEURONAL ARTIFICIAL**\n",
    "### -------------------------------------------------------------------------------------------------------------------------"
   ]
  },
  {
   "cell_type": "code",
   "execution_count": 27,
   "metadata": {},
   "outputs": [
    {
     "name": "stdout",
     "output_type": "stream",
     "text": [
      "Epoch 1/100\n",
      "141/141 [==============================] - 24s 30ms/step - loss: 0.6728 - accuracy: 0.8070 - val_loss: 0.5455 - val_accuracy: 0.7839\n",
      "Epoch 2/100\n",
      "141/141 [==============================] - 0s 2ms/step - loss: 0.4847 - accuracy: 0.8047 - val_loss: 0.4624 - val_accuracy: 0.7839\n",
      "Epoch 3/100\n",
      "141/141 [==============================] - 0s 3ms/step - loss: 0.4281 - accuracy: 0.8068 - val_loss: 0.4584 - val_accuracy: 0.7839\n",
      "Epoch 4/100\n",
      "141/141 [==============================] - 0s 3ms/step - loss: 0.4337 - accuracy: 0.7973 - val_loss: 0.4578 - val_accuracy: 0.7839\n",
      "Epoch 5/100\n",
      "141/141 [==============================] - 1s 4ms/step - loss: 0.4188 - accuracy: 0.8104 - val_loss: 0.4545 - val_accuracy: 0.7839\n",
      "Epoch 6/100\n",
      "141/141 [==============================] - 1s 4ms/step - loss: 0.4165 - accuracy: 0.8033 - val_loss: 0.4532 - val_accuracy: 0.7839\n",
      "Epoch 7/100\n",
      "141/141 [==============================] - 1s 4ms/step - loss: 0.4201 - accuracy: 0.7971 - val_loss: 0.4518 - val_accuracy: 0.7839\n",
      "Epoch 8/100\n",
      "141/141 [==============================] - 1s 4ms/step - loss: 0.4262 - accuracy: 0.7943 - val_loss: 0.4526 - val_accuracy: 0.7839\n",
      "Epoch 9/100\n",
      "141/141 [==============================] - 0s 3ms/step - loss: 0.4058 - accuracy: 0.8090 - val_loss: 0.4500 - val_accuracy: 0.7839\n",
      "Epoch 10/100\n",
      "141/141 [==============================] - 0s 3ms/step - loss: 0.4181 - accuracy: 0.7992 - val_loss: 0.4498 - val_accuracy: 0.7839\n",
      "Epoch 11/100\n",
      "141/141 [==============================] - 0s 3ms/step - loss: 0.4195 - accuracy: 0.8005 - val_loss: 0.4496 - val_accuracy: 0.7839\n",
      "Epoch 12/100\n",
      "141/141 [==============================] - 1s 4ms/step - loss: 0.4115 - accuracy: 0.8004 - val_loss: 0.4476 - val_accuracy: 0.7839\n",
      "Epoch 13/100\n",
      "141/141 [==============================] - 1s 5ms/step - loss: 0.4128 - accuracy: 0.8035 - val_loss: 0.4461 - val_accuracy: 0.7839\n",
      "Epoch 14/100\n",
      "141/141 [==============================] - 1s 4ms/step - loss: 0.4213 - accuracy: 0.7989 - val_loss: 0.4455 - val_accuracy: 0.8006\n",
      "Epoch 15/100\n",
      "141/141 [==============================] - 1s 4ms/step - loss: 0.4008 - accuracy: 0.8251 - val_loss: 0.4444 - val_accuracy: 0.8052\n",
      "Epoch 16/100\n",
      "141/141 [==============================] - 1s 4ms/step - loss: 0.4178 - accuracy: 0.8167 - val_loss: 0.4443 - val_accuracy: 0.8070\n",
      "Epoch 17/100\n",
      "141/141 [==============================] - 1s 4ms/step - loss: 0.4032 - accuracy: 0.8280 - val_loss: 0.4432 - val_accuracy: 0.8070\n",
      "Epoch 18/100\n",
      "141/141 [==============================] - 1s 4ms/step - loss: 0.4103 - accuracy: 0.8290 - val_loss: 0.4424 - val_accuracy: 0.8101\n",
      "Epoch 19/100\n",
      "141/141 [==============================] - 1s 4ms/step - loss: 0.4106 - accuracy: 0.8207 - val_loss: 0.4431 - val_accuracy: 0.8106\n",
      "Epoch 20/100\n",
      "141/141 [==============================] - 1s 4ms/step - loss: 0.4047 - accuracy: 0.8224 - val_loss: 0.4397 - val_accuracy: 0.8160\n",
      "Epoch 21/100\n",
      "141/141 [==============================] - 1s 4ms/step - loss: 0.4072 - accuracy: 0.8245 - val_loss: 0.4398 - val_accuracy: 0.8156\n",
      "Epoch 22/100\n",
      "141/141 [==============================] - 1s 4ms/step - loss: 0.4083 - accuracy: 0.8307 - val_loss: 0.4395 - val_accuracy: 0.8169\n",
      "Epoch 23/100\n",
      "141/141 [==============================] - 1s 4ms/step - loss: 0.4082 - accuracy: 0.8307 - val_loss: 0.4392 - val_accuracy: 0.8192\n",
      "Epoch 24/100\n",
      "141/141 [==============================] - 1s 4ms/step - loss: 0.3897 - accuracy: 0.8411 - val_loss: 0.4388 - val_accuracy: 0.8183\n",
      "Epoch 25/100\n",
      "141/141 [==============================] - 1s 4ms/step - loss: 0.4113 - accuracy: 0.8258 - val_loss: 0.4400 - val_accuracy: 0.8165\n",
      "Epoch 26/100\n",
      "141/141 [==============================] - 1s 4ms/step - loss: 0.4068 - accuracy: 0.8248 - val_loss: 0.4381 - val_accuracy: 0.8174\n",
      "Epoch 27/100\n",
      "141/141 [==============================] - 1s 4ms/step - loss: 0.4007 - accuracy: 0.8353 - val_loss: 0.4372 - val_accuracy: 0.8187\n",
      "Epoch 28/100\n",
      "141/141 [==============================] - 1s 4ms/step - loss: 0.3816 - accuracy: 0.8391 - val_loss: 0.4359 - val_accuracy: 0.8196\n",
      "Epoch 29/100\n",
      "141/141 [==============================] - 1s 4ms/step - loss: 0.4028 - accuracy: 0.8379 - val_loss: 0.4357 - val_accuracy: 0.8201\n",
      "Epoch 30/100\n",
      "141/141 [==============================] - 1s 4ms/step - loss: 0.3918 - accuracy: 0.8367 - val_loss: 0.4342 - val_accuracy: 0.8210\n",
      "Epoch 31/100\n",
      "141/141 [==============================] - 0s 4ms/step - loss: 0.4103 - accuracy: 0.8280 - val_loss: 0.4346 - val_accuracy: 0.8210\n",
      "Epoch 32/100\n",
      "141/141 [==============================] - 0s 3ms/step - loss: 0.3939 - accuracy: 0.8409 - val_loss: 0.4336 - val_accuracy: 0.8219\n",
      "Epoch 33/100\n",
      "141/141 [==============================] - 0s 3ms/step - loss: 0.4014 - accuracy: 0.8421 - val_loss: 0.4333 - val_accuracy: 0.8214\n",
      "Epoch 34/100\n",
      "141/141 [==============================] - 0s 4ms/step - loss: 0.3952 - accuracy: 0.8425 - val_loss: 0.4328 - val_accuracy: 0.8214\n",
      "Epoch 35/100\n",
      "141/141 [==============================] - 0s 3ms/step - loss: 0.3753 - accuracy: 0.8493 - val_loss: 0.4307 - val_accuracy: 0.8210\n",
      "Epoch 36/100\n",
      "141/141 [==============================] - 0s 3ms/step - loss: 0.4088 - accuracy: 0.8364 - val_loss: 0.4316 - val_accuracy: 0.8196\n",
      "Epoch 37/100\n",
      "141/141 [==============================] - 0s 3ms/step - loss: 0.4036 - accuracy: 0.8337 - val_loss: 0.4324 - val_accuracy: 0.8223\n",
      "Epoch 38/100\n",
      "141/141 [==============================] - 0s 3ms/step - loss: 0.3969 - accuracy: 0.8380 - val_loss: 0.4309 - val_accuracy: 0.8219\n",
      "Epoch 39/100\n",
      "141/141 [==============================] - 0s 3ms/step - loss: 0.3938 - accuracy: 0.8392 - val_loss: 0.4309 - val_accuracy: 0.8201\n",
      "Epoch 40/100\n",
      "141/141 [==============================] - 0s 3ms/step - loss: 0.4022 - accuracy: 0.8394 - val_loss: 0.4309 - val_accuracy: 0.8210\n",
      "Epoch 41/100\n",
      "141/141 [==============================] - 0s 3ms/step - loss: 0.3915 - accuracy: 0.8394 - val_loss: 0.4301 - val_accuracy: 0.8210\n",
      "Epoch 42/100\n",
      "141/141 [==============================] - 0s 2ms/step - loss: 0.3786 - accuracy: 0.8488 - val_loss: 0.4301 - val_accuracy: 0.8210\n",
      "Epoch 43/100\n",
      "141/141 [==============================] - 0s 2ms/step - loss: 0.3880 - accuracy: 0.8445 - val_loss: 0.4296 - val_accuracy: 0.8210\n",
      "Epoch 44/100\n",
      "141/141 [==============================] - 0s 2ms/step - loss: 0.3950 - accuracy: 0.8414 - val_loss: 0.4296 - val_accuracy: 0.8201\n",
      "Epoch 45/100\n",
      "141/141 [==============================] - 0s 2ms/step - loss: 0.3866 - accuracy: 0.8407 - val_loss: 0.4291 - val_accuracy: 0.8205\n",
      "Epoch 46/100\n",
      "141/141 [==============================] - 0s 2ms/step - loss: 0.3885 - accuracy: 0.8393 - val_loss: 0.4302 - val_accuracy: 0.8210\n",
      "Epoch 47/100\n",
      "141/141 [==============================] - 0s 3ms/step - loss: 0.3932 - accuracy: 0.8322 - val_loss: 0.4289 - val_accuracy: 0.8219\n",
      "Epoch 48/100\n",
      "141/141 [==============================] - 0s 2ms/step - loss: 0.3924 - accuracy: 0.8396 - val_loss: 0.4290 - val_accuracy: 0.8214\n",
      "Epoch 49/100\n",
      "141/141 [==============================] - 0s 2ms/step - loss: 0.3873 - accuracy: 0.8404 - val_loss: 0.4288 - val_accuracy: 0.8214\n",
      "Epoch 50/100\n",
      "141/141 [==============================] - 0s 2ms/step - loss: 0.4047 - accuracy: 0.8322 - val_loss: 0.4294 - val_accuracy: 0.8214\n",
      "Epoch 51/100\n",
      "141/141 [==============================] - 0s 2ms/step - loss: 0.3840 - accuracy: 0.8436 - val_loss: 0.4286 - val_accuracy: 0.8210\n",
      "Epoch 52/100\n",
      "141/141 [==============================] - 0s 2ms/step - loss: 0.4043 - accuracy: 0.8279 - val_loss: 0.4306 - val_accuracy: 0.8223\n",
      "Epoch 53/100\n",
      "141/141 [==============================] - 0s 2ms/step - loss: 0.3797 - accuracy: 0.8512 - val_loss: 0.4285 - val_accuracy: 0.8219\n",
      "Epoch 54/100\n",
      "141/141 [==============================] - 0s 2ms/step - loss: 0.3805 - accuracy: 0.8489 - val_loss: 0.4284 - val_accuracy: 0.8223\n",
      "Epoch 55/100\n",
      "141/141 [==============================] - 0s 2ms/step - loss: 0.3901 - accuracy: 0.8419 - val_loss: 0.4314 - val_accuracy: 0.8219\n",
      "Epoch 56/100\n",
      "141/141 [==============================] - 0s 2ms/step - loss: 0.4031 - accuracy: 0.8359 - val_loss: 0.4302 - val_accuracy: 0.8219\n",
      "Epoch 57/100\n",
      "141/141 [==============================] - 0s 2ms/step - loss: 0.3856 - accuracy: 0.8394 - val_loss: 0.4301 - val_accuracy: 0.8219\n",
      "Epoch 58/100\n",
      "141/141 [==============================] - 0s 2ms/step - loss: 0.3811 - accuracy: 0.8423 - val_loss: 0.4287 - val_accuracy: 0.8214\n",
      "Epoch 59/100\n",
      "141/141 [==============================] - 0s 2ms/step - loss: 0.3763 - accuracy: 0.8494 - val_loss: 0.4276 - val_accuracy: 0.8196\n",
      "Epoch 60/100\n",
      "141/141 [==============================] - 0s 2ms/step - loss: 0.3874 - accuracy: 0.8427 - val_loss: 0.4285 - val_accuracy: 0.8192\n",
      "Epoch 61/100\n",
      "141/141 [==============================] - 0s 2ms/step - loss: 0.3861 - accuracy: 0.8461 - val_loss: 0.4283 - val_accuracy: 0.8223\n",
      "Epoch 62/100\n",
      "141/141 [==============================] - 0s 2ms/step - loss: 0.3880 - accuracy: 0.8412 - val_loss: 0.4302 - val_accuracy: 0.8223\n",
      "Epoch 63/100\n",
      "141/141 [==============================] - 0s 2ms/step - loss: 0.4028 - accuracy: 0.8355 - val_loss: 0.4286 - val_accuracy: 0.8219\n",
      "Epoch 64/100\n",
      "141/141 [==============================] - 0s 2ms/step - loss: 0.3810 - accuracy: 0.8474 - val_loss: 0.4272 - val_accuracy: 0.8219\n",
      "Epoch 65/100\n",
      "141/141 [==============================] - 0s 2ms/step - loss: 0.3817 - accuracy: 0.8439 - val_loss: 0.4281 - val_accuracy: 0.8210\n",
      "Epoch 66/100\n",
      "141/141 [==============================] - 0s 2ms/step - loss: 0.3927 - accuracy: 0.8345 - val_loss: 0.4286 - val_accuracy: 0.8223\n",
      "Epoch 67/100\n",
      "141/141 [==============================] - 0s 2ms/step - loss: 0.3691 - accuracy: 0.8432 - val_loss: 0.4281 - val_accuracy: 0.8228\n",
      "Epoch 68/100\n",
      "141/141 [==============================] - 0s 2ms/step - loss: 0.3787 - accuracy: 0.8474 - val_loss: 0.4272 - val_accuracy: 0.8214\n",
      "Epoch 69/100\n",
      "141/141 [==============================] - 0s 2ms/step - loss: 0.3926 - accuracy: 0.8351 - val_loss: 0.4288 - val_accuracy: 0.8210\n",
      "Epoch 70/100\n",
      "141/141 [==============================] - 0s 2ms/step - loss: 0.3881 - accuracy: 0.8480 - val_loss: 0.4282 - val_accuracy: 0.8210\n",
      "Epoch 71/100\n",
      "141/141 [==============================] - 0s 2ms/step - loss: 0.3901 - accuracy: 0.8407 - val_loss: 0.4292 - val_accuracy: 0.8228\n",
      "Epoch 72/100\n",
      "141/141 [==============================] - 0s 2ms/step - loss: 0.3727 - accuracy: 0.8462 - val_loss: 0.4281 - val_accuracy: 0.8205\n",
      "Epoch 73/100\n",
      "141/141 [==============================] - 0s 2ms/step - loss: 0.3863 - accuracy: 0.8440 - val_loss: 0.4267 - val_accuracy: 0.8210\n",
      "Epoch 74/100\n",
      "141/141 [==============================] - 0s 2ms/step - loss: 0.3871 - accuracy: 0.8483 - val_loss: 0.4264 - val_accuracy: 0.8196\n",
      "Epoch 75/100\n",
      "141/141 [==============================] - 0s 2ms/step - loss: 0.3757 - accuracy: 0.8462 - val_loss: 0.4271 - val_accuracy: 0.8210\n",
      "Epoch 76/100\n",
      "141/141 [==============================] - 0s 2ms/step - loss: 0.3767 - accuracy: 0.8429 - val_loss: 0.4277 - val_accuracy: 0.8205\n",
      "Epoch 77/100\n",
      "141/141 [==============================] - 0s 2ms/step - loss: 0.3814 - accuracy: 0.8410 - val_loss: 0.4272 - val_accuracy: 0.8214\n",
      "Epoch 78/100\n",
      "141/141 [==============================] - 0s 2ms/step - loss: 0.3762 - accuracy: 0.8449 - val_loss: 0.4279 - val_accuracy: 0.8219\n",
      "Epoch 79/100\n",
      "141/141 [==============================] - 0s 2ms/step - loss: 0.3856 - accuracy: 0.8418 - val_loss: 0.4260 - val_accuracy: 0.8201\n",
      "Epoch 80/100\n",
      "141/141 [==============================] - 0s 2ms/step - loss: 0.3948 - accuracy: 0.8351 - val_loss: 0.4272 - val_accuracy: 0.8187\n",
      "Epoch 81/100\n",
      "141/141 [==============================] - 0s 2ms/step - loss: 0.3996 - accuracy: 0.8281 - val_loss: 0.4283 - val_accuracy: 0.8219\n",
      "Epoch 82/100\n",
      "141/141 [==============================] - 0s 2ms/step - loss: 0.3879 - accuracy: 0.8404 - val_loss: 0.4281 - val_accuracy: 0.8214\n",
      "Epoch 83/100\n",
      "141/141 [==============================] - 0s 2ms/step - loss: 0.3855 - accuracy: 0.8482 - val_loss: 0.4270 - val_accuracy: 0.8196\n",
      "Epoch 84/100\n",
      "141/141 [==============================] - 0s 2ms/step - loss: 0.3698 - accuracy: 0.8548 - val_loss: 0.4266 - val_accuracy: 0.8196\n",
      "Epoch 85/100\n",
      "141/141 [==============================] - 0s 2ms/step - loss: 0.3820 - accuracy: 0.8423 - val_loss: 0.4278 - val_accuracy: 0.8192\n",
      "Epoch 86/100\n",
      "141/141 [==============================] - 0s 2ms/step - loss: 0.3895 - accuracy: 0.8509 - val_loss: 0.4277 - val_accuracy: 0.8196\n",
      "Epoch 87/100\n",
      "141/141 [==============================] - 0s 2ms/step - loss: 0.3899 - accuracy: 0.8382 - val_loss: 0.4274 - val_accuracy: 0.8192\n",
      "Epoch 88/100\n",
      "141/141 [==============================] - 0s 2ms/step - loss: 0.3778 - accuracy: 0.8525 - val_loss: 0.4265 - val_accuracy: 0.8192\n",
      "Epoch 89/100\n",
      "141/141 [==============================] - 0s 2ms/step - loss: 0.3719 - accuracy: 0.8497 - val_loss: 0.4265 - val_accuracy: 0.8205\n",
      "Epoch 90/100\n",
      "141/141 [==============================] - 0s 2ms/step - loss: 0.3957 - accuracy: 0.8375 - val_loss: 0.4283 - val_accuracy: 0.8228\n",
      "Epoch 91/100\n",
      "141/141 [==============================] - 0s 2ms/step - loss: 0.3891 - accuracy: 0.8420 - val_loss: 0.4271 - val_accuracy: 0.8192\n",
      "Epoch 92/100\n",
      "141/141 [==============================] - 0s 2ms/step - loss: 0.3856 - accuracy: 0.8436 - val_loss: 0.4272 - val_accuracy: 0.8210\n",
      "Epoch 93/100\n",
      "141/141 [==============================] - 0s 2ms/step - loss: 0.3835 - accuracy: 0.8461 - val_loss: 0.4288 - val_accuracy: 0.8219\n",
      "Epoch 94/100\n",
      "141/141 [==============================] - 0s 2ms/step - loss: 0.3787 - accuracy: 0.8507 - val_loss: 0.4266 - val_accuracy: 0.8214\n",
      "Epoch 95/100\n",
      "141/141 [==============================] - 0s 2ms/step - loss: 0.3938 - accuracy: 0.8390 - val_loss: 0.4291 - val_accuracy: 0.8205\n",
      "Epoch 96/100\n",
      "141/141 [==============================] - 0s 2ms/step - loss: 0.3871 - accuracy: 0.8453 - val_loss: 0.4275 - val_accuracy: 0.8214\n",
      "Epoch 97/100\n",
      "141/141 [==============================] - 0s 2ms/step - loss: 0.3844 - accuracy: 0.8441 - val_loss: 0.4285 - val_accuracy: 0.8223\n",
      "Epoch 98/100\n",
      "141/141 [==============================] - 0s 2ms/step - loss: 0.3889 - accuracy: 0.8362 - val_loss: 0.4275 - val_accuracy: 0.8210\n",
      "Epoch 99/100\n",
      "141/141 [==============================] - 0s 2ms/step - loss: 0.3795 - accuracy: 0.8496 - val_loss: 0.4265 - val_accuracy: 0.8210\n",
      "Epoch 100/100\n",
      "141/141 [==============================] - 0s 2ms/step - loss: 0.3829 - accuracy: 0.8460 - val_loss: 0.4265 - val_accuracy: 0.8223\n"
     ]
    }
   ],
   "source": [
    "# Ajustamos la RNA al Conjunto de Entrenamiento\n",
    "# batch_size : Numero de observaciones antes de actualizar los pesos/ tamaño del bloque a procesar.\n",
    "# epochs     : Numero de iteracciones globales / Mas veces mas aprendizaje u overfitting.\n",
    "history = classifier.fit(X_train, \n",
    "                         y_train, \n",
    "                         validation_split=0.33, \n",
    "                         batch_size = 32, \n",
    "                         epochs = 100)\n",
    "# abusar de las epochs podria significar caer en un sobreajuste(overfitting)"
   ]
  },
  {
   "cell_type": "code",
   "execution_count": 28,
   "metadata": {},
   "outputs": [],
   "source": [
    "# Evaluar el modelo y calcular predicciones finales\n",
    "y_pred_train  = classifier.predict(X_train)\n",
    "y_pred_train = (y_pred_train > 0.5)\n",
    "y_pred_test = classifier.predict(X_test)\n",
    "y_pred_test = (y_pred_test > 0.5)"
   ]
  },
  {
   "cell_type": "markdown",
   "metadata": {},
   "source": [
    "### -----------------------------------------------------------------------------------------------------------------\n",
    "## **PARTE V - VALIDACION DE LA RED NEURONAL ARTIFICIAL**\n",
    "### -----------------------------------------------------------------------------------------------------------------"
   ]
  },
  {
   "cell_type": "code",
   "execution_count": 29,
   "metadata": {},
   "outputs": [
    {
     "name": "stdout",
     "output_type": "stream",
     "text": [
      "[[5163  172]\n",
      " [ 916  449]]\n",
      "------------------------\n",
      "[[2533   95]\n",
      " [ 470  202]]\n",
      "------------------------\n",
      "0.8376119402985075\n",
      "0.8287878787878787\n"
     ]
    }
   ],
   "source": [
    "# Elaborar una matriz de confusión\n",
    "from sklearn.metrics import confusion_matrix,recall_score,f1_score,accuracy_score,classification_report\n",
    "\n",
    "cm_train = confusion_matrix(y_train, y_pred_train)\n",
    "cm_test = confusion_matrix(y_test, y_pred_test)\n",
    "\n",
    "recall_train = accuracy_score(y_train, y_pred_train)\n",
    "recall_test = accuracy_score(y_test, y_pred_test)\n",
    "\n",
    "\n",
    "print(cm_train)\n",
    "print('------------------------')\n",
    "print(cm_test)\n",
    "print('------------------------')\n",
    "print(recall_train)\n",
    "print(recall_test)"
   ]
  },
  {
   "cell_type": "code",
   "execution_count": 32,
   "metadata": {
    "scrolled": false
   },
   "outputs": [
    {
     "data": {
      "text/plain": [
       "<matplotlib.axes._subplots.AxesSubplot at 0x1a93051e0a0>"
      ]
     },
     "execution_count": 32,
     "metadata": {},
     "output_type": "execute_result"
    },
    {
     "data": {
      "image/png": "[encoded data removed]",
      "text/plain": [
       "<Figure size 432x288 with 2 Axes>"
      ]
     },
     "metadata": {
      "needs_background": "light"
     },
     "output_type": "display_data"
    }
   ],
   "source": [
    "sns.heatmap(cm_train,cmap='YlOrRd',annot=True)"
   ]
  },
  {
   "cell_type": "code",
   "execution_count": 33,
   "metadata": {},
   "outputs": [
    {
     "data": {
      "text/plain": [
       "<matplotlib.axes._subplots.AxesSubplot at 0x1a9307b85e0>"
      ]
     },
     "execution_count": 33,
     "metadata": {},
     "output_type": "execute_result"
    },
    {
     "data": {
      "image/png": "[encoded data removed]",
      "text/plain": [
       "<Figure size 432x288 with 2 Axes>"
      ]
     },
     "metadata": {
      "needs_background": "light"
     },
     "output_type": "display_data"
    }
   ],
   "source": [
    "sns.heatmap(cm_test,cmap='YlOrRd',annot=True)"
   ]
  },
  {
   "cell_type": "code",
   "execution_count": 34,
   "metadata": {},
   "outputs": [
    {
     "data": {
      "text/plain": [
       "(2533, 95, 470, 202)"
      ]
     },
     "execution_count": 34,
     "metadata": {},
     "output_type": "execute_result"
    }
   ],
   "source": [
    "tn,fp,fn,tp = confusion_matrix(y_test,y_pred_test).ravel()\n",
    "(tn,fp,fn,tp)"
   ]
  },
  {
   "cell_type": "code",
   "execution_count": 35,
   "metadata": {},
   "outputs": [],
   "source": [
    "#Generamos la matriz de reporte"
   ]
  },
  {
   "cell_type": "code",
   "execution_count": 36,
   "metadata": {},
   "outputs": [
    {
     "name": "stdout",
     "output_type": "stream",
     "text": [
      "Classification Report-Train: \n",
      "               precision    recall  f1-score   support\n",
      "\n",
      "           0       0.85      0.97      0.90      5335\n",
      "           1       0.72      0.33      0.45      1365\n",
      "\n",
      "    accuracy                           0.84      6700\n",
      "   macro avg       0.79      0.65      0.68      6700\n",
      "weighted avg       0.82      0.84      0.81      6700\n",
      "\n"
     ]
    }
   ],
   "source": [
    "matrix_train = classification_report(y_train,y_pred_train)\n",
    "print('Classification Report-Train: \\n', matrix_train)"
   ]
  },
  {
   "cell_type": "code",
   "execution_count": 37,
   "metadata": {},
   "outputs": [
    {
     "name": "stdout",
     "output_type": "stream",
     "text": [
      "Classification Report-Test: \n",
      "               precision    recall  f1-score   support\n",
      "\n",
      "           0       0.84      0.96      0.90      2628\n",
      "           1       0.68      0.30      0.42       672\n",
      "\n",
      "    accuracy                           0.83      3300\n",
      "   macro avg       0.76      0.63      0.66      3300\n",
      "weighted avg       0.81      0.83      0.80      3300\n",
      "\n"
     ]
    }
   ],
   "source": [
    "matrix_test = classification_report(y_test,y_pred_test)\n",
    "print('Classification Report-Test: \\n', matrix_test)"
   ]
  },
  {
   "cell_type": "code",
   "execution_count": 38,
   "metadata": {},
   "outputs": [
    {
     "data": {
      "image/png": "[encoded data removed]",
      "text/plain": [
       "<Figure size 432x288 with 1 Axes>"
      ]
     },
     "metadata": {
      "needs_background": "light"
     },
     "output_type": "display_data"
    }
   ],
   "source": [
    "# Resumen del historial del accuracy!\n",
    "plt.plot(history.history['accuracy'])\n",
    "plt.plot(history.history['val_accuracy'])\n",
    "plt.title('model accuracy')\n",
    "plt.ylabel('accuracy')\n",
    "plt.xlabel('epoch')\n",
    "plt.legend(['train', 'test'], loc='upper left')\n",
    "plt.show()"
   ]
  },
  {
   "cell_type": "code",
   "execution_count": 39,
   "metadata": {},
   "outputs": [
    {
     "data": {
      "image/png": "[encoded data removed]",
      "text/plain": [
       "<Figure size 432x288 with 1 Axes>"
      ]
     },
     "metadata": {
      "needs_background": "light"
     },
     "output_type": "display_data"
    }
   ],
   "source": [
    "# Resumen del historial del error!\n",
    "plt.plot(history.history['loss'])\n",
    "plt.plot(history.history['val_loss'])\n",
    "plt.title('model loss')\n",
    "plt.ylabel('loss')\n",
    "plt.xlabel('epoch')\n",
    "plt.legend(['train', 'test'], loc='upper left')\n",
    "plt.show()"
   ]
  },
  {
   "cell_type": "code",
   "execution_count": 40,
   "metadata": {},
   "outputs": [],
   "source": [
    "# Guardamos el modelo de red neuronal para usarlo cuando lo necesitemos!\n",
    "classifier.save('modelo1RedNeuronal.h5') "
   ]
  },
  {
   "cell_type": "code",
   "execution_count": 41,
   "metadata": {},
   "outputs": [],
   "source": [
    "# Leemos el modelos con todos los pesos de la red neuronal!\n",
    "new_model = keras.models.load_model('modelo1RedNeuronal.h5')"
   ]
  },
  {
   "cell_type": "code",
   "execution_count": 42,
   "metadata": {},
   "outputs": [
    {
     "name": "stdout",
     "output_type": "stream",
     "text": [
      "Model: \"sequential\"\n",
      "_________________________________________________________________\n",
      "Layer (type)                 Output Shape              Param #   \n",
      "=================================================================\n",
      "dense (Dense)                (None, 6)                 66        \n",
      "_________________________________________________________________\n",
      "dense_1 (Dense)              (None, 6)                 42        \n",
      "_________________________________________________________________\n",
      "dense_2 (Dense)              (None, 1)                 7         \n",
      "=================================================================\n",
      "Total params: 115\n",
      "Trainable params: 115\n",
      "Non-trainable params: 0\n",
      "_________________________________________________________________\n"
     ]
    }
   ],
   "source": [
    "# Mostramos la arquitectura del modelo!\n",
    "new_model.summary()"
   ]
  },
  {
   "cell_type": "markdown",
   "metadata": {},
   "source": [
    "### -----------------------------------------------------------------------------------------------------------------\n",
    "## **PARTE VI - MEJORAR Y TUNEAR LA RED NEURONAL**\n",
    "### -----------------------------------------------------------------------------------------------------------------"
   ]
  },
  {
   "cell_type": "markdown",
   "metadata": {},
   "source": [
    "Nuestra red actual trabaja con un algoritmo estable, aunque segun la matriz de confusión, nuestra red no tiene mucha precisión sobre la gente fugada, en este apartado se busca mejorar ese punto"
   ]
  },
  {
   "cell_type": "code",
   "execution_count": 43,
   "metadata": {},
   "outputs": [],
   "source": [
    "# Evaluaremos, mejoraremos y Ajustamos la RNA"
   ]
  },
  {
   "cell_type": "code",
   "execution_count": 50,
   "metadata": {},
   "outputs": [],
   "source": [
    "### Evaluar la **RNA**\n",
    "from keras.wrappers.scikit_learn import KerasClassifier\n",
    "from sklearn.model_selection import cross_val_score"
   ]
  },
  {
   "cell_type": "code",
   "execution_count": 45,
   "metadata": {},
   "outputs": [],
   "source": [
    "# Construimos un clasificador\n",
    "def build_classifier():\n",
    "  classifier = Sequential()\n",
    "  classifier.add(Dense(units = 6, kernel_initializer = \"uniform\", activation = \"relu\", input_dim = 10))\n",
    "  classifier.add(Dense(units = 6, kernel_initializer = \"uniform\", activation = \"relu\"))\n",
    "  classifier.add(Dense(units = 1, kernel_initializer = \"uniform\", activation = \"sigmoid\"))\n",
    "  classifier.compile(optimizer = \"adam\", loss = \"binary_crossentropy\", metrics = [\"accuracy\"])\n",
    "  return classifier"
   ]
  },
  {
   "cell_type": "code",
   "execution_count": 46,
   "metadata": {},
   "outputs": [
    {
     "name": "stderr",
     "output_type": "stream",
     "text": [
      "[Parallel(n_jobs=-1)]: Using backend LokyBackend with 8 concurrent workers.\n",
      "[Parallel(n_jobs=-1)]: Done   6 out of  10 | elapsed:  6.6min remaining:  4.4min\n",
      "[Parallel(n_jobs=-1)]: Done  10 out of  10 | elapsed:  6.6min finished\n"
     ]
    }
   ],
   "source": [
    "classifier = KerasClassifier(build_fn = build_classifier, batch_size = 10, nb_epoch = 100)\n",
    "accuracies = cross_val_score(estimator=classifier, X = X_train, y = y_train, cv = 10, n_jobs=-1, verbose = 1)"
   ]
  },
  {
   "cell_type": "code",
   "execution_count": 47,
   "metadata": {},
   "outputs": [],
   "source": [
    "# Corroboramos si estamos ante un problema de Bias o Variance\n",
    "mean = accuracies.mean()\n",
    "variance = accuracies.std()"
   ]
  },
  {
   "cell_type": "code",
   "execution_count": 48,
   "metadata": {},
   "outputs": [
    {
     "name": "stdout",
     "output_type": "stream",
     "text": [
      "0.7962686479091644\n",
      "0.008658017961903798\n"
     ]
    }
   ],
   "source": [
    "# Validamos la media y desviacion estandar del accuracy!\n",
    "print(mean)\n",
    "print(variance)"
   ]
  },
  {
   "cell_type": "markdown",
   "metadata": {},
   "source": [
    "### Mejorar la RNA\n",
    "#### Regularización de Dropout para evitar el *overfitting*"
   ]
  },
  {
   "cell_type": "code",
   "execution_count": 51,
   "metadata": {},
   "outputs": [],
   "source": [
    "### Ajustar la *RNA*\n",
    "from sklearn.model_selection import GridSearchCV,RandomizedSearchCV # sklearn.grid_search"
   ]
  },
  {
   "cell_type": "code",
   "execution_count": 52,
   "metadata": {},
   "outputs": [],
   "source": [
    "def build_classifier(optimizer):\n",
    "  classifier = Sequential()\n",
    "  classifier.add(Dense(units = 16, kernel_initializer = \"uniform\",  activation = \"relu\", input_dim = 10))\n",
    "  classifier.add(Dense(units = 16, kernel_initializer = \"uniform\",  activation = \"relu\"))\n",
    "  classifier.add(Dense(units = 1, kernel_initializer = \"uniform\",  activation = \"sigmoid\"))\n",
    "  classifier.compile(optimizer = optimizer, loss = \"binary_crossentropy\", metrics = [\"accuracy\"])\n",
    "  return classifier"
   ]
  },
  {
   "cell_type": "code",
   "execution_count": 53,
   "metadata": {},
   "outputs": [],
   "source": [
    "# Construimos el clasificador\n",
    "classifier = KerasClassifier(build_fn = build_classifier)"
   ]
  },
  {
   "cell_type": "code",
   "execution_count": 54,
   "metadata": {},
   "outputs": [],
   "source": [
    "# Hacemos el grid con los parámetros que queremos optimizar\n",
    "parameters = {\n",
    "    'batch_size' : [25,32],\n",
    "    'nb_epoch' : [100, 250 , 500], \n",
    "    'optimizer' : ['adam', 'rmsprop']\n",
    "}"
   ]
  },
  {
   "cell_type": "code",
   "execution_count": 56,
   "metadata": {},
   "outputs": [],
   "source": [
    "# Ajustamos el Random GridSearch\n",
    "grid_search = RandomizedSearchCV(classifier, #clasificador\n",
    "                                 parameters, #parametros a optimizar\n",
    "                                 scoring = 'accuracy', # puede ser propio de python o propiamiento construido\n",
    "                                 cv = 3) # cv(validacion cruzada): lo ideal en proyectos fuertes en 10\n",
    "\n",
    "#En este caso ajustamos la red con RandomGridSearchCV, tambien podriamos haber usado el GridSearchCV\n",
    "#La diferencias entre estas radica en que GridSearchCV realiza un ajuste exhaustivo(comparacion y ajusta contra todos los hiperparametros)\n",
    "#Y RandomGridSearchCV realiza no utiliza todos los hiperparametros, solo unos cuantos de manera aleatoria, por eso se llama RandomGridSearchCV\n",
    "# En cuanto a costo computacional GridSearchCV suele ser muy fuerte, por eso en este caso solo aplicamos RandomGridSearchCV\n",
    "# Tambien existe un ajuste Bayesiano\n",
    "\n",
    "#Para el uso de GridSearchCV solo cambiar RandomizedSearchCV por GridSearchCV, los parametros de la función son los mismos"
   ]
  },
  {
   "cell_type": "code",
   "execution_count": 57,
   "metadata": {},
   "outputs": [
    {
     "name": "stdout",
     "output_type": "stream",
     "text": [
      "140/140 [==============================] - 1s 1ms/step - loss: 0.6450 - accuracy: 0.7727\n"
     ]
    },
    {
     "name": "stderr",
     "output_type": "stream",
     "text": [
      "D:\\Anaconda\\lib\\site-packages\\tensorflow\\python\\keras\\engine\\sequential.py:450: UserWarning: `model.predict_classes()` is deprecated and will be removed after 2021-01-01. Please use instead:* `np.argmax(model.predict(x), axis=-1)`,   if your model does multi-class classification   (e.g. if it uses a `softmax` last-layer activation).* `(model.predict(x) > 0.5).astype(\"int32\")`,   if your model does binary classification   (e.g. if it uses a `sigmoid` last-layer activation).\n",
      "  warnings.warn('`model.predict_classes()` is deprecated and '\n"
     ]
    },
    {
     "name": "stdout",
     "output_type": "stream",
     "text": [
      "140/140 [==============================] - 1s 2ms/step - loss: 0.6441 - accuracy: 0.7948\n",
      "140/140 [==============================] - 2s 2ms/step - loss: 0.6384 - accuracy: 0.8095\n",
      "179/179 [==============================] - 1s 1ms/step - loss: 0.6356 - accuracy: 0.7719\n",
      "179/179 [==============================] - 2s 2ms/step - loss: 0.6320 - accuracy: 0.7827\n",
      "179/179 [==============================] - 1s 1ms/step - loss: 0.6305 - accuracy: 0.7984\n",
      "140/140 [==============================] - 1s 1ms/step - loss: 0.6560 - accuracy: 0.7642\n",
      "140/140 [==============================] - 1s 1ms/step - loss: 0.6425 - accuracy: 0.7929\n",
      "140/140 [==============================] - 1s 1ms/step - loss: 0.6300 - accuracy: 0.8039\n",
      "140/140 [==============================] - 1s 1ms/step - loss: 0.6534 - accuracy: 0.7832\n",
      "140/140 [==============================] - 1s 1ms/step - loss: 0.6505 - accuracy: 0.7932\n",
      "140/140 [==============================] - 1s 1ms/step - loss: 0.6546 - accuracy: 0.7919\n",
      "140/140 [==============================] - 1s 1ms/step - loss: 0.6516 - accuracy: 0.7808\n",
      "140/140 [==============================] - 1s 1ms/step - loss: 0.6526 - accuracy: 0.7810\n",
      "140/140 [==============================] - 1s 1ms/step - loss: 0.6458 - accuracy: 0.8071\n",
      "179/179 [==============================] - 1s 2ms/step - loss: 0.6398 - accuracy: 0.7715\n",
      "179/179 [==============================] - 1s 1ms/step - loss: 0.6328 - accuracy: 0.7816\n",
      "179/179 [==============================] - 1s 1ms/step - loss: 0.6331 - accuracy: 0.7874\n",
      "179/179 [==============================] - 1s 1ms/step - loss: 0.6355 - accuracy: 0.7800\n",
      "179/179 [==============================] - 1s 1ms/step - loss: 0.6382 - accuracy: 0.7820\n",
      "179/179 [==============================] - 1s 1ms/step - loss: 0.6366 - accuracy: 0.7774\n",
      "179/179 [==============================] - 1s 980us/step - loss: 0.6251 - accuracy: 0.7864\n",
      "179/179 [==============================] - 1s 1ms/step - loss: 0.6352 - accuracy: 0.7920\n",
      "179/179 [==============================] - 1s 1ms/step - loss: 0.6222 - accuracy: 0.7876\n",
      "179/179 [==============================] - 1s 1ms/step - loss: 0.6419 - accuracy: 0.7726\n",
      "179/179 [==============================] - 2s 1ms/step - loss: 0.6270 - accuracy: 0.7887\n",
      "179/179 [==============================] - 1s 969us/step - loss: 0.6221 - accuracy: 0.8032\n",
      "140/140 [==============================] - 1s 1ms/step - loss: 0.6646 - accuracy: 0.7924\n",
      "140/140 [==============================] - 1s 907us/step - loss: 0.6532 - accuracy: 0.7841\n",
      "140/140 [==============================] - 1s 1ms/step - loss: 0.6484 - accuracy: 0.8036\n",
      "210/210 [==============================] - 1s 967us/step - loss: 0.6281 - accuracy: 0.7830\n"
     ]
    }
   ],
   "source": [
    "grid_search = grid_search.fit(X_train,y_train)"
   ]
  },
  {
   "cell_type": "code",
   "execution_count": 59,
   "metadata": {},
   "outputs": [],
   "source": [
    "best_parameters = grid_search.best_params_\n",
    "best_accuracy = grid_search.best_score_"
   ]
  },
  {
   "cell_type": "code",
   "execution_count": 60,
   "metadata": {},
   "outputs": [
    {
     "name": "stdout",
     "output_type": "stream",
     "text": [
      "{'optimizer': 'rmsprop', 'nb_epoch': 100, 'batch_size': 32}\n",
      "0.7962669771393879\n"
     ]
    }
   ],
   "source": [
    "print(best_parameters)\n",
    "print(best_accuracy)"
   ]
  },
  {
   "cell_type": "markdown",
   "metadata": {},
   "source": [
    "**Nos dice que nuestro mejor accuraccy es 79, tal vez no es el mas alto que hayamos tenido pero indica un equilibrio entre todos los indicadores**\n",
    "\n",
    "**Los valores obtenidos son los que debemos modificar en nuestra red inicial para poder obtener una red neuronal mas fuerte**"
   ]
  },
  {
   "cell_type": "markdown",
   "metadata": {},
   "source": [
    "# FIN !!"
   ]
  }
 ],
 "metadata": {
  "kernelspec": {
   "display_name": "Python 3",
   "language": "python",
   "name": "python3"
  },
  "language_info": {
   "codemirror_mode": {
    "name": "ipython",
    "version": 3
   },
   "file_extension": ".py",
   "mimetype": "text/x-python",
   "name": "python",
   "nbconvert_exporter": "python",
   "pygments_lexer": "ipython3",
   "version": "3.8.3"
  }
 },
 "nbformat": 4,
 "nbformat_minor": 4
}
